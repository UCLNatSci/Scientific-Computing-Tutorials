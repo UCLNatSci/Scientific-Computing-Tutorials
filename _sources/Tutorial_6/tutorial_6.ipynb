{
 "cells": [
  {
   "cell_type": "markdown",
   "metadata": {
    "collapsed": false
   },
   "source": [
    "# Tutorial 6\n",
    "\n",
    "## Practice Questions\n",
    "\n",
    "### Question 1\n",
    "\n",
    "The file `monthly-sunspots.txt` contains one floating point number per line. Write a program which opens the file, reads the numbers into a list, then plots the data as a line graph.\n",
    "\n",
    "<a href=\"../tutorial_6/monthly_sunspots.txt\" download>monthly-sunspots.txt</a>\n"
   ]
  },
  {
   "cell_type": "code",
   "execution_count": 0,
   "metadata": {
    "collapsed": false
   },
   "outputs": [
   ],
   "source": [
   ]
  },
  {
   "cell_type": "markdown",
   "metadata": {
    "collapsed": false
   },
   "source": [
    "## Question 2\n",
    "The `time()` function returns the number of seconds which have elapsed since January 1 1970.\n",
    "```\n",
    "from time import time\n",
    "print(time())\n",
    "\n",
    "1609431989.253785\n",
    "```\n",
    "\n",
    "Write a program which writes the current time to the file `current_time.txt`. Investigate the difference between opening the file in write mode versus append mode."
   ]
  },
  {
   "cell_type": "code",
   "execution_count": 0,
   "metadata": {
    "collapsed": false
   },
   "outputs": [
   ],
   "source": [
   ]
  },
  {
   "cell_type": "markdown",
   "metadata": {
    "collapsed": false
   },
   "source": [
    "## Question 3\n",
    "Write a program which creates 9 files named `element_1.txt` to `element_9.txt` containing the name and description of the first 9 chemical elements listed in the file `periodic_table.csv`. E.g., `element_1.txt` should contain:\n",
    "```\n",
    "Hydrogen\n",
    "colorless gas\n",
    "```\n",
    "\n",
    "<a href=\"../tutorial_6/periodic_table.csv\" download>periodic_table.csv</a>"
   ]
  },
  {
   "cell_type": "markdown",
   "metadata": {
    "collapsed": false
   },
   "source": [
    "## Tutorial Questions\n",
    "\n",
    "### Question 1\n",
    "\n",
    "In this question you will use data from a star catalogue to create a picture that plots the locations of stars, like this:\n",
    "\n",
    "```{image} star_map.png\n",
    ":width: 300px\n",
    "```\n",
    "\n",
    "First download the two files:\n",
    "\n",
    "<a href=\"../tutorial_6/stars.csv\" download>stars.csv</a>\n",
    "<a href=\"../tutorial_6/Cas_lines.txt\" download>Cas_lines.txt</a>\n",
    "\n",
    "The file `stars.csv` contains one line for each star that is represented in the catalogue. The meaning of each field (column) is described below.\n",
    "\n",
    "- The first three fields are the x, y and z coordinates for the star. We will ignore the z coordinate, and use only the x and y coordinates. Each axis in the coordinate system goes from -1 to +1, and the centre point is 0,0.\n",
    "- The fourth field is the Henry Draper number, which is simply a unique identifier for the star.\n",
    "- The fifth field is the magnitude (or brightness) of the star.\n",
    "- The sixth field exists only for a small number of stars and is a semicolon-separated list of names for a star. A star may have several names.\n",
    "- The fields that you will need for this assignment include the x and y coordinates, the magnitude and the name of each star.\n",
    "\n",
    "### Step 1\n",
    "\n",
    " - Create four empty lists `x`, `y`, `mag` and `star_name` to store the x coordinate, y coordinate, magnitude and star name of each star.\n",
    " - Open the file `stars.csv` and use `csv.reader` to load the contents into the four lists. Make sure you convert each to the appropriate data type (float or string).\n",
    " - Where there is more than one star name, store the second one (using `string.split` and `string.strip`)\n",
    "\n",
    "### Step 2\n",
    "\n",
    "Make a scatter plot of the x, y coordinates. Use the following code to set up your plot:\n",
    "\n",
    "```\n",
    "fig, ax = plt.subplots(figsize=(5,5))\n",
    "fig.patch.set_facecolor(\"black\") # set the figure background to black\n",
    "ax.axis(\"off\") # remove the axes\n",
    "ax.set_facecolor(\"black\") # set the plot background to black\n",
    "```\n",
    "\n",
    "Use `ax.scatter(x, y)` to plot the stars. Try to make it look similar to the image above by passing suitable values for the `marker`, `s` and `color` parameters (see https://matplotlib.org/3.3.3/api/_as_gen/matplotlib.pyplot.scatter.html).\n",
    "\n",
    "\n",
    "### Step 3\n",
    "\n",
    "The file `Cas_lines.txt` contains two star names per line. Each pair of star names represent one line to be drawn for the constellation. Write code which iterates over each line in the file, and for each line, determines the x and y coordinates of the two stars, then draws a line between them on the plot.\n",
    "\n",
    "The following code will plot a line between coordinates (x_1, y_1) and (x_2, y_2).\n",
    "```\n",
    "ax.plot([x_1, x_2], [y_1, y_2])\n",
    "```\n",
    "\n",
    "- Open the file `Cas_lines.txt` and use `csv.reader` to iterate over each row. For each row:\n",
    "  - use `star_name.index` to find the index of the two star names in the list of star names you created in step 1.\n",
    "  - determine the x and y coordinates of each\n",
    "  - use the code above to plot a line between them.\n",
    "\n"
   ]
  },
  {
   "cell_type": "code",
   "execution_count": 0,
   "metadata": {
    "collapsed": false
   },
   "outputs": [
   ],
   "source": [
   ]
  },
  {
   "cell_type": "markdown",
   "metadata": {
    "collapsed": false
   },
   "source": [
    "## Question 2\n",
    "\n",
    "<a href=\"../tutorial_6/Ps_kr_G2B.fasta\" download>Ps_kr_G2B.fasta</a>\n",
    "\n",
    "In last week's worksheet you wrote a Python script which converted a RNA sequence into a protein by performing the translation (RNA -> amino acid sequence) process. In this question you will extend the script to:\n",
    "1. Read a DNA sequence from a `fasta` file\n",
    "1. Transcribe the sequence (convert from DNA to RNA) by replacing all occurrences of \"T\" with \"U\".\n",
    "1. Translate the sequence (**already done last week**)\n",
    "1. Count the frequency of each amino acid and plot it as a histogram\n",
    "\n",
    "```{image} aa_freq.png\n",
    ":width: 300px\n",
    "```\n",
    "\n",
    "### Step 1\n",
    "Write a script which opens the file `random_60.fasta` and reads the DNA sequence into a string variable. Make sure you discard the line beginning '`>`' and remove newline characters.\n",
    "### Step 2\n",
    "Convert the DNA sequence to an RNA sequence using `string.replace` to replace each occurrence of `T` with `U`. (e.g. \"CTGCTC\" should become \"CUGCUC\").\n",
    "### Step 3\n",
    "Translate the RNA sequence to a protein by generating a string variable containing the amino acid sequence (you can reuse last week's code).\n",
    "### Step 4\n",
    "Write a script which creates a list which contains the number of occurrences of each amino acid in the protein. Plot a histogram showing the frequency of each amino acid. Add y-axis label 'Frequency' and x-axis label 'Amino acid'.\n"
   ]
  },
  {
   "cell_type": "code",
   "execution_count": 0,
   "metadata": {
    "collapsed": false
   },
   "outputs": [
   ],
   "source": [
   ]
  }
 ],
 "metadata": {
  "kernelspec": {
   "display_name": "Python 3 (system-wide)",
   "language": "python",
   "metadata": {
    "cocalc": {
     "description": "Python 3 programming language",
     "priority": 100,
     "url": "https://www.python.org/"
    }
   },
   "name": "python3",
   "resource_dir": "/ext/jupyter/kernels/python3"
  }
 },
 "nbformat": 4,
 "nbformat_minor": 4
}