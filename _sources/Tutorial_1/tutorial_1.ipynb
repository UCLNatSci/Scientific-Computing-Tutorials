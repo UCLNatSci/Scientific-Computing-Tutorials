{
 "cells": [
  {
   "cell_type": "markdown",
   "metadata": {
    "collapsed": false
   },
   "source": [
    "# Tutorial 1"
   ]
  },
  {
   "cell_type": "markdown",
   "metadata": {
    "collapsed": false
   },
   "source": [
    "## Practice Questions\n",
    "\n",
    "### Question 1\n",
    "\n",
    "Write a program which use the quadratic formula to print the solution to the quadratic equation $ax^2 + bx + c = 0$, given variables `a`, `b`, and `c`. Your program should print:\n",
    "\n",
    "```\n",
    "The solutions are x = 4 and x = 1\n",
    "```\n",
    "or\n",
    "```\n",
    "The solution is x = 1\n",
    "```\n",
    "or\n",
    "```\n",
    "There are no real solutions\n",
    "```\n",
    "(Hint: first calculate the discriminant $b^2-4ac$).\n"
   ]
  },
  {
   "cell_type": "code",
   "execution_count": 0,
   "metadata": {
    "collapsed": false
   },
   "outputs": [
   ],
   "source": [
   ]
  },
  {
   "cell_type": "markdown",
   "metadata": {
    "collapsed": false
   },
   "source": [
    "### Question 2\n",
    "\n",
    "Write a program which prints how many digits the integer `num` has. Assume that `num` is positive and less than 1 million. Store the number of digits in the variable `d` and print the result as:\n",
    "\n",
    "```\n",
    "62463 has 5 digits\n",
    "```\n",
    "\n",
    "Hint: Use `if...elif` to check whether the number is < 10, < 100 and so on.\n",
    "\n",
    "Extend your answer to negative integers by multiplying by -1 if `num` is negative."
   ]
  },
  {
   "cell_type": "markdown",
   "metadata": {
    "collapsed": false
   },
   "source": [
    "### Question 3\n",
    "\n",
    "> TODO"
   ]
  },
  {
   "cell_type": "markdown",
   "metadata": {
    "collapsed": false
   },
   "source": [
    "## Tutorial Questions\n",
    "\n",
    "### Question 1\n",
    "A time `t` in seconds can be converted to days, hours, minutes and seconds using integer division:\n",
    "\n",
    "1. Divide `t` by 60; set `t` to the quotient and call the remainder `s`.\n",
    "1. Divide `t` by 60; set `t` to the quotient and call the remainder `m`.\n",
    "1. Divide `t` by 24; set `d` to the quotient and call the remainder `h`.\n",
    "\n",
    "Calculate the number of days, hours, minutes and seconds in one million seconds. Display the result as follows:\n",
    "\n",
    "    1000000 seconds is xx days H:M:S\n"
   ]
  },
  {
   "cell_type": "code",
   "execution_count": 0,
   "metadata": {
    "collapsed": false
   },
   "outputs": [
   ],
   "source": [
   ]
  },
  {
   "cell_type": "markdown",
   "metadata": {
    "collapsed": false
   },
   "source": [
    "### Question 2 (The Collatz Problem)\n",
    "\n",
    "Given a positive integer `n`, consider the following operation:\n",
    "    \n",
    " - If the number is even, divide it by two\n",
    " - If the number is odd, triple it and add one\n",
    "    \n",
    "Write a program which starting with a number `n`, repeatedly applies the above operation until the value of `n` reaches 1.\n",
    "\n",
    "For example, if `n = 5` then your program should produce the following:\n",
    "\n",
    "```\n",
    "5\n",
    "16\n",
    "8\n",
    "4\n",
    "2\n",
    "1\n",
    "```\n",
    "\n",
    "Now try your program with negative values of `n`. What happens? Explain why."
   ]
  },
  {
   "cell_type": "code",
   "execution_count": 0,
   "metadata": {
    "collapsed": false
   },
   "outputs": [
   ],
   "source": [
   ]
  },
  {
   "cell_type": "markdown",
   "metadata": {
    "collapsed": false
   },
   "source": [
    "### Question 3\n",
    "\n",
    "The following algorithm can be used to count the number of digits in a number:\n",
    "\n",
    "- *Set counter to 0*  \n",
    "- *Repeat the following steps while the number is greater than 1*:\n",
    "  - *increase counter value by 1*\n",
    "  - *divide the number by 10*\n",
    "- *print the final counter value*\n",
    "\n",
    "Use a `while` loop to count the number of digits in `x = 9999`, then test your code with `x = 10`, `x = 9.9` and `x = 4356633`"
   ]
  },
  {
   "cell_type": "code",
   "execution_count": 0,
   "metadata": {
    "collapsed": false
   },
   "outputs": [
   ],
   "source": [
   ]
  }
 ],
 "metadata": {
  "kernelspec": {
   "display_name": "Python 3 (system-wide)",
   "language": "python",
   "metadata": {
    "cocalc": {
     "description": "Python 3 programming language",
     "priority": 100,
     "url": "https://www.python.org/"
    }
   },
   "name": "python3",
   "resource_dir": "/ext/jupyter/kernels/python3"
  }
 },
 "nbformat": 4,
 "nbformat_minor": 4
}