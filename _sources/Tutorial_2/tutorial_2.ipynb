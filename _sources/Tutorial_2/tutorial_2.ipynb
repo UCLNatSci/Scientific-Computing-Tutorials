{
 "cells": [
  {
   "cell_type": "markdown",
   "metadata": {
    "collapsed": false
   },
   "source": [
    "# Tutorial 2\n",
    "\n",
    "## Question 1\n",
    "\n",
    "Use `for` loops and `print(end=\"\")` to write functions which print the following patterns:\n",
    "\n",
    "1. `print_square(n)` where `n` is the number of stars along each edge.\n",
    "\n",
    "```\n",
    "*****\n",
    "*   *\n",
    "*   *\n",
    "*   *\n",
    "*****\n",
    "```\n",
    "2. `print_rhombus(n)` where `n` is the number of stars along each edge.\n",
    "\n",
    "```\n",
    "    *****\n",
    "   *   *\n",
    "  *   *\n",
    " *   *\n",
    "*****\n",
    "```\n",
    " \n",
    "3. `print_numbers(n)` where `n` is the number at the centre.\n",
    "\n",
    "```\n",
    "1       1\n",
    " 2     2\n",
    "  3   3\n",
    "   4 4\n",
    "    5\n",
    "   4 4\n",
    "  3   3\n",
    " 2     2\n",
    "1       1\n",
    "```"
   ]
  },
  {
   "cell_type": "code",
   "execution_count": 0,
   "metadata": {
    "collapsed": false
   },
   "outputs": [
   ],
   "source": [
   ]
  },
  {
   "cell_type": "markdown",
   "metadata": {
    "collapsed": false
   },
   "source": [
    "## Question 2\n",
    "\n",
    "An integer $n$ is a *prime number* if it is divisible only by 1 and $n$. \n",
    "\n",
    "1. Write a function `is_divisible(n, m)` which returns `True` if `n` is divisible by `m`, and otherwise returns `False`.\n",
    "1. Write a function `is_prime(n)` which returns `False` if `n` is divisible by any integer between `2` and `n-1`, and otherwise returns `True`.\n",
    "1. Write a function `number_of_primes(n)` which returns the number of prime numbers less than or equal to `n` [NB 1 is *not* a prime number].\n",
    "\n",
    "Check the correctness of your functions by writing two tests for each."
   ]
  },
  {
   "cell_type": "code",
   "execution_count": 0,
   "metadata": {
    "collapsed": false
   },
   "outputs": [
   ],
   "source": [
   ]
  },
  {
   "cell_type": "markdown",
   "metadata": {
    "collapsed": false
   },
   "source": [
    "## Question 3\n",
    "\n",
    "A [solid of revolution](https://en.wikipedia.org/wiki/Solid_of_revolution) is a three-dimensional figure contstructed by rotating a curve about a straight line. We can estimate the volume of a solid of revolution by dividing it into a sequence of stacked discs and summing the volume of each.\n",
    "\n",
    "A sphere of radius $R$ is formed by rotating the curve $y = \\sqrt{R^2 - x^2}$ around the x-axis between $-R$ and $R$.\n",
    "\n",
    "![a](https://miro.medium.com/max/2400/0*d7QEcno6XhPOiJSt.png)\n",
    "\n",
    "Use the following steps to estimate the volume of a sphere of radius 1.\n",
    "\n",
    "1. Write a function `vol_disc(R, x, dx)` which returns the volume of the disc centred at position `x` with thickness `dx`. \n",
    "1. Estimate the volume of a sphere of radius 1 by dividing the figure into 10 discs equally spaced between `-1` and `1` [use a value of 3.14159 for $\\pi$].\n",
    "1. Write a function `sphere_vol(R, n)` which returns the estimate of the volume of a sphere of radius `R` calculated by dividing it into `n` discs.\n",
    "1. The estimate should get more accurate as we increase `n`. We can estimate the accuracy by calculating the difference between `sphere_vol(R, n)` and `sphere_vol(R, n-1)`. For `R = 1`, how large does `n` need to be so that difference between consecutive estimates is less than $10^{-4}$?"
   ]
  },
  {
   "cell_type": "code",
   "execution_count": 0,
   "metadata": {
    "collapsed": false,
    "scrolled": true
   },
   "outputs": [
   ],
   "source": [
   ]
  },
  {
   "cell_type": "markdown",
   "metadata": {
    "collapsed": false
   },
   "source": [
    "## Extension Questions (Optional)\n",
    "\n",
    "These questions are open-ended and designed to allow to you challenge yourself beyond the material we have studied.\n",
    "\n",
    "1. Investgate the [Prime Number Theorem](https://en.wikipedia.org/wiki/Prime_number_theorem).\n",
    "1. Write a function `volume_of_revolution(func, x_min, x_max, n)` which calculates the volume of the surface of revolution of the curve given by function `func`. `func(x)` should be a function of a single variable which returns the y-value of the curve given the x value. You'll have to learn how to [pass a function as an argument to another function](https://www.geeksforgeeks.org/passing-function-as-an-argument-in-python/). Test your function by calculating the volume of a sphere,  a paraboloid and another curve of your choice.\n",
    "\n"
   ]
  },
  {
   "cell_type": "code",
   "execution_count": 0,
   "metadata": {
    "collapsed": false
   },
   "outputs": [
   ],
   "source": [
   ]
  }
 ],
 "metadata": {
  "kernelspec": {
   "display_name": "Python 3 (system-wide)",
   "language": "python",
   "metadata": {
    "cocalc": {
     "description": "Python 3 programming language",
     "priority": 100,
     "url": "https://www.python.org/"
    }
   },
   "name": "python3",
   "resource_dir": "/ext/jupyter/kernels/python3"
  },
  "language_info": {
   "codemirror_mode": {
    "name": "ipython",
    "version": 3
   },
   "file_extension": ".py",
   "mimetype": "text/x-python",
   "name": "python",
   "nbconvert_exporter": "python",
   "pygments_lexer": "ipython3",
   "version": "3.8.10"
  }
 },
 "nbformat": 4,
 "nbformat_minor": 4
}