{
 "cells": [
  {
   "cell_type": "markdown",
   "metadata": {
    "collapsed": false
   },
   "source": [
    "# Tutorial 3\n",
    "## Practice Questions"
   ]
  },
  {
   "cell_type": "markdown",
   "metadata": {
    "collapsed": false
   },
   "source": [
    "### Question 1\n",
    "\n",
    "Use a loop to generate the following lists:\n",
    "1. `[5, 7, 9, 11, 13, 15]`\n",
    "1. `[1, 10, 100, 1000, 10000, 100000]`\n",
    "1. `[0, 1, 2, 0, 1, 2, 0, 1, 2]` (hint: use the `%` operator)"
   ]
  },
  {
   "cell_type": "code",
   "execution_count": 0,
   "metadata": {
    "collapsed": false
   },
   "outputs": [
   ],
   "source": [
   ]
  },
  {
   "cell_type": "markdown",
   "metadata": {
    "collapsed": false
   },
   "source": [
    "### Question 2\n",
    "\n",
    "Look up the predicted daily maximum and minimum temperatures for the next 10 days according to the BBC weather forecast.\n",
    "\n",
    "https://www.bbc.co.uk/weather/2643743\n",
    "\n",
    "Create two lists to store the maximum and minimum temperatures and plot them as two separate lines on a line graph, including axis labels and title. Look up how to add a legend.\n",
    "\n",
    "<img src=\"temperatures.png\" width=\"400px\"/>"
   ]
  },
  {
   "cell_type": "code",
   "execution_count": 0,
   "metadata": {
    "collapsed": false
   },
   "outputs": [
   ],
   "source": [
   ]
  },
  {
   "cell_type": "markdown",
   "metadata": {
    "collapsed": false
   },
   "source": [
    "### Question 3\n",
    "\n",
    "The following code initialises a list `x` with ten random integers, then prints `x`.\n",
    "\n",
    "Write code which prints four lines of output, containing\n",
    "- Every element of `x` at an even index.\n",
    "- Every even element.\n",
    "- All elements in reverse order.\n",
    "- Only the first and last element."
   ]
  },
  {
   "cell_type": "markdown",
   "metadata": {
    "collapsed": false
   },
   "source": [
    "## Tutorial Questions\n",
    "\n",
    "### Question 1\n",
    "\n",
    "Given a string representing a DNA sequence, we want to print a sequence of nucleotide names:\n",
    "```\n",
    "dna_seq = \"gttccccaagctcttacataaatgtcgtagggttccagctacgtgttgttgggccaccca\"\n",
    "```\n",
    "Output:\n",
    "```\n",
    "Guanine\n",
    "Thymine\n",
    "Thymine\n",
    "Cytosine\n",
    "...\n",
    "```\n",
    "- Create two lists `letters = [\"A\", \"G\", \"C\", \"T\"]` and `names = [\"Adenine\", \"Guanine\", \"Cytosine\", \"Thymine\"]`\n",
    "- Loop over every character in `dna_seq`. For each character:\n",
    "  - Find the index of the character in `letters`\n",
    "  - Print the item in the equivalent position in `names`\n",
    "\n",
    "**HINT**: First try just for a single letter. E.g. given `nuc = \"A\"`, print `Adenine`.\n"
   ]
  },
  {
   "cell_type": "code",
   "execution_count": 0,
   "metadata": {
    "collapsed": false
   },
   "outputs": [
   ],
   "source": [
   ]
  },
  {
   "cell_type": "markdown",
   "metadata": {
    "collapsed": false
   },
   "source": [
    "### Question 2\n",
    "\n",
    "A cannon located at position `x = 0` fires a cannonball at an angle `theta` from the horizontal (measured in radians) and speed `speed` m/s. Write a program which plots a graph of the cannonball's trajectory.\n",
    "\n",
    "<img src=\"cannon.jpg\" width=\"200px\"></img>\n",
    "\n",
    "Set the initial positions `x` and `y` to zero and velocities `vx` and `vy` to `np.cos(theta)` and `np.sin(theta)`. Each time step, update the positions using `x = x + vx * DELTA_T` and `y = y + vy * DELTA_T`. Update the velocity `vy = vy - g * DELTA_T`. The x velocity remains constant.\n",
    "Create lists `x_list` and `y_list` to store the x and y positions, appending the new positions at each timestep.\n",
    "\n",
    "Repeat until the `y` position becomes negative (what kind of loop should you use for this?). Finally, use `matplotlib` to plot the two lists.\n",
    "\n",
    "\n",
    "Extend your program so that it prints `hit` or `miss` depending if the cannonball lands less than 20m from a target placed at a distance `dis` from the cannon.\n",
    "\n",
    "<img src=\"cannon_output.png\" width=\"200px\"></img>\n",
    "\n",
    "`hit`"
   ]
  },
  {
   "cell_type": "code",
   "execution_count": 0,
   "metadata": {
    "collapsed": false
   },
   "outputs": [
   ],
   "source": [
   ]
  }
 ],
 "metadata": {
  "kernelspec": {
   "display_name": "Python 3 (system-wide)",
   "language": "python",
   "metadata": {
    "cocalc": {
     "description": "Python 3 programming language",
     "priority": 100,
     "url": "https://www.python.org/"
    }
   },
   "name": "python3",
   "resource_dir": "/ext/jupyter/kernels/python3"
  }
 },
 "nbformat": 4,
 "nbformat_minor": 4
}