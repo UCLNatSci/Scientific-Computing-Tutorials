{
 "cells": [
  {
   "cell_type": "markdown",
   "metadata": {
    "collapsed": false
   },
   "source": [
    "# Tutorial 1\n",
    "\n",
    "## Question 1\n",
    "A time `t` in seconds can be converted to days, hours, minutes and seconds using integer division:\n",
    "\n",
    "1. Divide `t` by 60; set `t` to the quotient and call the remainder `s`.\n",
    "1. Divide `t` by 60; set `t` to the quotient and call the remainder `m`.\n",
    "1. Divide `t` by 24; set `d` to the quotient and call the remainder `h`.\n",
    "\n",
    "Calculate the number of days, hours, minutes and seconds in one million seconds. Display the result as follows:\n",
    "```\n",
    "1000000 seconds is xx days H:M:S\n",
    "```"
   ]
  },
  {
   "cell_type": "code",
   "execution_count": 0,
   "metadata": {
    "collapsed": false
   },
   "outputs": [
   ],
   "source": [
   ]
  },
  {
   "cell_type": "markdown",
   "metadata": {
    "collapsed": false
   },
   "source": [
    "## Question 2\n",
    "\n",
    "Iodine-131 is a radioisotope with a half-life $t_\\mathrm{half} = 8.02$ days.\n",
    "\n",
    "1. Use the equation $r = \\left(\\frac{1}{2}\\right) ^ {1/t_\\mathrm{half}}$ to calculate the daily decay rate (i.e. the proportion of a sample of Iodine 131 that decays in one day).\n",
    "1. A sample of radioactive material containing Iodine-131 has an activity of $1.67 \\times 10^{12}$ Becquerels. Write a program which calculates the number of days it takes for the sample to reach an activity of $10000$ Becquerels.\n",
    "1. Print the activity of the sample once every 7 days."
   ]
  },
  {
   "cell_type": "code",
   "execution_count": 0,
   "metadata": {
    "collapsed": false
   },
   "outputs": [
   ],
   "source": [
   ]
  },
  {
   "cell_type": "markdown",
   "metadata": {
    "collapsed": false
   },
   "source": [
    "## Question 3\n",
    "\n",
    "We can calculate how many digits there are in a number by repeatedly dividing by 10 until the number is less than one.\n",
    "\n",
    "1. Write peudo-code for this calculation.\n",
    "1. Write a Python program to implement it, displaying the result in the format `1234 has 4 digits.`\n",
    "1. Test your program with a variety of numbers.\n",
    "1. Extend your program so that it works for negative numbers.\n"
   ]
  },
  {
   "cell_type": "code",
   "execution_count": 0,
   "metadata": {
    "collapsed": false
   },
   "outputs": [
   ],
   "source": [
   ]
  },
  {
   "cell_type": "markdown",
   "metadata": {
    "collapsed": false
   },
   "source": [
    "## Question 4 (The Collatz Problem)\n",
    "\n",
    "Given a positive integer `n`, the Collatz Operation is defined as follows:\n",
    "    \n",
    " - If the number is even, divide it by two\n",
    " - If the number is odd, triple it and add one\n",
    " \n",
    "Repeatedly applying the Collatz Operation results in a sequence if integers which eventually reaches the number 1.\n",
    "\n",
    "> Write a program which generates the Collatz Sequence for a given positive integer $n$. \n",
    "\n",
    "For example, if `n = 5` then your program should produce the following:\n",
    "\n",
    "```\n",
    "5\n",
    "16\n",
    "8\n",
    "4\n",
    "2\n",
    "1\n",
    "```\n",
    "\n",
    "Given a positive integer $n$, define the Collatz Number $C(n)$ to be the length of the Collatz Sequence for $n$. For example $C(5) = 6$.\n",
    "\n",
    "> Write a program which determines the smallest number $n$ whose Collatz Number $C(n)$ is greater than one million."
   ]
  },
  {
   "cell_type": "markdown",
   "metadata": {
    "collapsed": false
   },
   "source": [
   ]
  }
 ],
 "metadata": {
  "kernelspec": {
   "display_name": "Python 3 (system-wide)",
   "language": "python",
   "metadata": {
    "cocalc": {
     "description": "Python 3 programming language",
     "priority": 100,
     "url": "https://www.python.org/"
    }
   },
   "name": "python3",
   "resource_dir": "/ext/jupyter/kernels/python3"
  },
  "language_info": {
   "codemirror_mode": {
    "name": "ipython",
    "version": 3
   },
   "file_extension": ".py",
   "mimetype": "text/x-python",
   "name": "python",
   "nbconvert_exporter": "python",
   "pygments_lexer": "ipython3",
   "version": "3.8.10"
  }
 },
 "nbformat": 4,
 "nbformat_minor": 4
}