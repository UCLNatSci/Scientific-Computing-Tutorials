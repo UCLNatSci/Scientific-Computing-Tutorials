{
 "cells": [
  {
   "cell_type": "markdown",
   "metadata": {
    "collapsed": false
   },
   "source": [
    "# Practice 1"
   ]
  },
  {
   "cell_type": "markdown",
   "metadata": {
    "collapsed": false
   },
   "source": [
    "## Question 1\n",
    "\n",
    "Recall the definition of factorial of a number $n$:\n",
    "\n",
    "$$n! = n \\times (n-1) \\times \\ldots \\times 2 \\times 1$$\n",
    "\n",
    "Use the following pseudocode to calculate the factorial of 10.\n",
    "\n",
    "```none\n",
    "Set n to 10\n",
    "Set f to 1\n",
    "Repeat until n is 1:\n",
    " - Set f to f times n\n",
    " - Decrease n by 1\n",
    "Print f\n",
    "```"
   ]
  },
  {
   "cell_type": "code",
   "execution_count": 0,
   "metadata": {
    "collapsed": false
   },
   "outputs": [
   ],
   "source": [
    "n = 10\n",
    "f = 1\n",
    "while n > 1:\n",
    "    f = f * n\n",
    "    n = n - 1 # or n -= 1\n",
    "print(f)"
   ]
  },
  {
   "cell_type": "markdown",
   "metadata": {
    "collapsed": false
   },
   "source": [
    "## Question 2\n",
    "\n",
    "Find the 'pseudocode' box in the notes. Write Python code which implements the program described there.\n",
    "\n",
    "> The value of a loan increases by 1.3% every month, except in December when it is reduced by 100 pounds. How many months will it take for a 1000 pound loan to reach 2000 pounds?\n",
    "\n",
    "How many months does it take if the monthly interest rate is changed to 0.8%?"
   ]
  },
  {
   "cell_type": "code",
   "execution_count": 0,
   "metadata": {
    "collapsed": false
   },
   "outputs": [
   ],
   "source": [
   ]
  },
  {
   "cell_type": "code",
   "execution_count": 5,
   "metadata": {
    "collapsed": false
   },
   "outputs": [
    {
     "name": "stdout",
     "output_type": "stream",
     "text": [
      "900\n",
      "911.6999999999999\n",
      "923.5520999999999\n",
      "935.5582772999998\n",
      "947.7205349048996\n",
      "960.0409018586632\n",
      "972.5214335828258\n",
      "985.1642122194024\n",
      "997.9713469782546\n",
      "1010.9449744889718\n",
      "1024.0872591573284\n",
      "1037.4003935263736\n",
      "937.4003935263736\n",
      "949.5865986422164\n",
      "961.9312244245651\n",
      "974.4363303420844\n",
      "987.1040026365314\n",
      "999.9363546708062\n",
      "1012.9355272815266\n",
      "1026.1036891361864\n",
      "1039.4430370949567\n",
      "1052.955796577191\n",
      "1066.6442219326943\n",
      "1080.5105968178193\n",
      "980.5105968178193\n",
      "993.2572345764509\n",
      "1006.1695786259446\n",
      "1019.2497831480817\n",
      "1032.5000303290067\n",
      "1045.9225307232837\n",
      "1059.5195236226862\n",
      "1073.293277429781\n",
      "1087.246090036368\n",
      "1101.3802892068406\n",
      "1115.6982329665295\n",
      "1130.2023099950943\n",
      "1030.2023099950943\n",
      "1043.5949400250304\n",
      "1057.1616742453557\n",
      "1070.9047760105452\n",
      "1084.8265380986822\n",
      "1098.929283093965\n",
      "1113.2153637741865\n",
      "1127.6871635032508\n",
      "1142.347096628793\n",
      "1157.1976088849672\n",
      "1172.2411778004716\n",
      "1187.4803131118776\n",
      "1087.4803131118776\n",
      "1101.617557182332\n",
      "1115.938585425702\n",
      "1130.445787036236\n",
      "1145.141582267707\n",
      "1160.028422837187\n",
      "1175.1087923340704\n",
      "1190.3852066344132\n",
      "1205.8602143206604\n",
      "1221.5363971068289\n",
      "1237.4163702692176\n",
      "1253.5027830827173\n",
      "1153.5027830827173\n",
      "1168.4983192627926\n",
      "1183.6887974132087\n",
      "1199.0767517795803\n",
      "1214.6647495527147\n",
      "1230.4553912969\n",
      "1246.4513113837595\n",
      "1262.6551784317483\n",
      "1279.0696957513608\n",
      "1295.6976017961283\n",
      "1312.5416706194778\n",
      "1329.6047123375308\n",
      "1229.6047123375308\n",
      "1245.5895735979186\n",
      "1261.7822380546913\n",
      "1278.1854071494022\n",
      "1294.8018174423444\n",
      "1311.6342410690947\n",
      "1328.685486202993\n",
      "1345.9583975236317\n",
      "1363.4558566914388\n",
      "1381.1807828284275\n",
      "1399.1361330051968\n",
      "1417.3249027342642\n",
      "1317.3249027342642\n",
      "1334.4501264698094\n",
      "1351.7979781139168\n",
      "1369.3713518293976\n",
      "1387.1731794031796\n",
      "1405.2064307354208\n",
      "1423.474114334981\n",
      "1441.9792778213357\n",
      "1460.7250084330128\n",
      "1479.714433542642\n",
      "1498.950721178696\n",
      "1518.437080554019\n",
      "1418.437080554019\n",
      "1436.8767626012211\n",
      "1455.556160515037\n",
      "1474.4783906017324\n",
      "1493.6466096795548\n",
      "1513.064015605389\n",
      "1532.7338478082588\n",
      "1552.659387829766\n",
      "1572.843959871553\n",
      "1593.2909313498828\n",
      "1614.003713457431\n",
      "1634.9857617323776\n",
      "1534.9857617323776\n",
      "1554.9405766348984\n",
      "1575.1548041311519\n",
      "1595.6318165848568\n",
      "1616.3750302004598\n",
      "1637.3879055930656\n",
      "1658.6739483657752\n",
      "1680.2367096945302\n",
      "1702.079786920559\n",
      "1724.206824150526\n",
      "1746.6215128644826\n",
      "1769.3275925317207\n",
      "1669.3275925317207\n",
      "1691.0288512346328\n",
      "1713.0122263006829\n",
      "1735.2813852425916\n",
      "1757.840043250745\n",
      "1780.6919638130046\n",
      "1803.8409593425736\n",
      "1827.2908918140267\n",
      "1851.045673407609\n",
      "1875.1092671619078\n",
      "1899.4856876350125\n",
      "1924.1790015742674\n",
      "1824.1790015742674\n",
      "1847.8933285947328\n",
      "1871.9159418664642\n",
      "1896.250849110728\n",
      "1920.9021101491674\n",
      "1945.8738375811063\n",
      "1971.1701974696605\n",
      "1996.7954100367658\n",
      "2022.7537503672436\n",
      "141\n"
     ]
    }
   ],
   "source": [
    "loan = 1000\n",
    "i = 0\n",
    "while loan < 2000:\n",
    "    if i % 12 == 0:\n",
    "        loan = loan - 100\n",
    "    else:\n",
    "        loan = loan * 1.013\n",
    "    print(loan)\n",
    "    i += 1\n",
    "print(i)"
   ]
  },
  {
   "cell_type": "markdown",
   "metadata": {
    "collapsed": false
   },
   "source": [
    "## Question 3\n",
    "\n",
    "Write a program which use the quadratic formula to print the solution to the quadratic equation $ax^2 + bx + c = 0$, given variables `a`, `b`, and `c`. Your program should print:\n",
    "\n",
    "```\n",
    "The solutions are x = 4 and x = 1\n",
    "```\n",
    "or\n",
    "```\n",
    "The solution is x = 1\n",
    "```\n",
    "or\n",
    "```\n",
    "There are no real solutions\n",
    "```\n",
    "(Hint: first calculate the discriminant $b^2-4ac$).\n"
   ]
  },
  {
   "cell_type": "code",
   "execution_count": 0,
   "metadata": {
    "collapsed": false
   },
   "outputs": [
   ],
   "source": [
   ]
  },
  {
   "cell_type": "markdown",
   "metadata": {
    "collapsed": false
   },
   "source": [
    "## Question 4\n",
    "\n",
    "Given two integers $n$ and $m$ it is possible to perform division-with-remainder by repeatedly subtracting $m$ from $n$ until the result is less than $m$. For example, to calculate 13 divided by 3:\n",
    "\n",
    "13 - 3 = 10  \n",
    "10 - 3 = 7  \n",
    "7 - 3 = 4  \n",
    "4 - 3 = 1  \n",
    "\n",
    "13 divided by 3 equals 4 remainder 1.\n",
    "\n",
    "Use the following pseudocode to write a program which performs this calulation.\n",
    "\n",
    "> Set `n` to 13  \n",
    "> Set `m` to 3  \n",
    "> Set `i` to 0  \n",
    "> Repeat while `n` is greater than `m`:\n",
    "> - Subtract `m` from `n`\n",
    "> - Increase `i` by 1.\n",
    ">\n",
    "> Print the result\n",
    "\n",
    "The result should be displayed in words as above (hint: you'll need to create an extra variable to store the original value of `n`).\n"
   ]
  },
  {
   "cell_type": "code",
   "execution_count": 0,
   "metadata": {
    "collapsed": false
   },
   "outputs": [
   ],
   "source": [
   ]
  }
 ],
 "metadata": {
  "kernelspec": {
   "display_name": "Python 3 (system-wide)",
   "language": "python",
   "metadata": {
    "cocalc": {
     "description": "Python 3 programming language",
     "priority": 100,
     "url": "https://www.python.org/"
    }
   },
   "name": "python3",
   "resource_dir": "/ext/jupyter/kernels/python3"
  },
  "language_info": {
   "codemirror_mode": {
    "name": "ipython",
    "version": 3
   },
   "file_extension": ".py",
   "mimetype": "text/x-python",
   "name": "python",
   "nbconvert_exporter": "python",
   "pygments_lexer": "ipython3",
   "version": "3.8.10"
  }
 },
 "nbformat": 4,
 "nbformat_minor": 4
}