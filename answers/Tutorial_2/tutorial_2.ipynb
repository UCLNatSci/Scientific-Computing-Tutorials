{
 "cells": [
  {
   "cell_type": "markdown",
   "metadata": {
    "collapsed": false
   },
   "source": [
    "# Tutorial 2\n",
    "\n",
    "## Question 1\n",
    "\n",
    "An integer $n$ is a *prime number* if it is divisible only by 1 and $n$. \n",
    "\n",
    "1. Write a function `is_divisible(n, m)` which returns `True` if `n` is divisible by `m`, and otherwise returns `False`.\n",
    "1. Write a function `is_prime(n)` which returns `False` if `n` is divisible by any integer between `2` and `n-1`, and otherwise returns `True`.\n",
    "1. Write a function `number_of_primes(n)` which returns the number of prime numbers less than or equal to `n` [NB 1 is *not* a prime number].\n",
    "\n",
    "Write two tests for each function."
   ]
  },
  {
   "cell_type": "code",
   "execution_count": 6,
   "metadata": {
    "collapsed": false
   },
   "outputs": [
    {
     "name": "stdout",
     "output_type": "stream",
     "text": [
      "4 is divisible by 2: True\n",
      "4 is divisible by 3: False\n",
      "7 is a prime number: True\n",
      "8 is a prime number: False\n",
      "Number of prime numbers up to 10: 4\n",
      "Number of prime numbers up to 11: 5\n"
     ]
    }
   ],
   "source": [
    "def is_divisible(n, m):\n",
    "    return n % m == 0\n",
    "\n",
    "def is_prime(n):\n",
    "    for m in range(2, n):\n",
    "        if is_divisible(n, m):\n",
    "            return False\n",
    "    return True\n",
    "\n",
    "def number_of_primes(n):\n",
    "    i = 0\n",
    "    for m in range(2, n+1):\n",
    "        if is_prime(m):\n",
    "            i += 1\n",
    "    return i\n",
    "            \n",
    "print(\"4 is divisible by 2:\", is_divisible(4, 2))\n",
    "print(\"4 is divisible by 3:\", is_divisible(4, 3))\n",
    "\n",
    "print(\"7 is a prime number:\", is_prime(7))\n",
    "print(\"8 is a prime number:\", is_prime(8))\n",
    "\n",
    "print(\"Number of prime numbers up to 10:\", number_of_primes(10))\n",
    "print(\"Number of prime numbers up to 11:\", number_of_primes(11))\n",
    "    "
   ]
  },
  {
   "cell_type": "markdown",
   "metadata": {
    "collapsed": false
   },
   "source": [
    "## Question 2\n",
    "\n",
    "A [solid of revolution](https://en.wikipedia.org/wiki/Solid_of_revolution) is a three-dimensional figure contstructed by rotating a curve about a straight line.\n",
    "\n",
    "We can estimate the volume of a solid of revolution by dividing it into a sequence of stacked discs and summing the volume of each.\n",
    "\n",
    "![a](https://miro.medium.com/max/2400/0*d7QEcno6XhPOiJSt.png)\n",
    "\n",
    "1. A sphere of radius $R$ is formed by rotating the curve $y = \\sqrt{R^2 - x^2}$ around the x-axis between $-R$ and $R$. Estimate the volume of a sphere of radius 1 by dividing the figure into 10 discs [use a value of 3.14159 for $\\pi$].\n",
    "2. Write a function `sphere_vol(R, n)` which returns the estimate of the volume of a sphere of radius `R` calculated by dividing it into $n$ discs.\n",
    "3. The estimate should get more accurate as we increase $n$. We can estimate the accuracy by calculating the difference between `sphere_vol(R, n)` and `sphere_vol(R, n-1)`. For `R=1`, how large does `n` need to be so that difference between consecutive estimates is less than $10^{-4}$?"
   ]
  },
  {
   "cell_type": "code",
   "execution_count": 9,
   "metadata": {
    "collapsed": false,
    "scrolled": true
   },
   "outputs": [
    {
     "name": "stdout",
     "output_type": "stream",
     "text": [
      "Volume of sphere radius 1: 4.146898800000001\n",
      "4.188786666666666\n",
      "46\n"
     ]
    }
   ],
   "source": [
    "def sphere(R, x):\n",
    "    return (R**2 - x**2)**0.5\n",
    "\n",
    "vol = 0\n",
    "d = 2 / 10\n",
    "pi = 3.14159\n",
    "for i in range(10):\n",
    "    x = -1 + (i / 10) * 2\n",
    "    y = sphere(1, x)\n",
    "    vol_disc = d * pi *y ** 2\n",
    "    vol += vol_disc\n",
    "    \n",
    "print(\"Volume of sphere radius 1:\", vol)\n",
    "\n",
    "# let's check it against the formula vol = (4/3)*pi*r**3\n",
    "print((4/3) * pi)\n",
    "\n",
    "def sphere_vol(R, n):\n",
    "    vol = 0\n",
    "    d = 2 * R / n\n",
    "    pi = 3.14159\n",
    "    for i in range(n):\n",
    "        x = -R + (i / n) * 2 * R\n",
    "        y = sphere(R, x)\n",
    "        vol_disc = d * pi * y ** 2\n",
    "        vol += vol_disc\n",
    "    return vol\n",
    "        \n",
    "diff = 1\n",
    "vol = 0\n",
    "n = 2\n",
    "while diff > 1e-4:\n",
    "    vol_prev = vol\n",
    "    vol = sphere_vol(1, n)\n",
    "    diff = vol - vol_prev\n",
    "    # could use np.abs here instead\n",
    "    if diff < 0:\n",
    "        diff = diff * -1\n",
    "    n += 1\n",
    "    # print(\"vol:\", vol)\n",
    "    # print(\"diff:\", diff)\n",
    "        \n",
    "print(n)\n",
    "    "
   ]
  },
  {
   "cell_type": "code",
   "execution_count": 0,
   "metadata": {
    "collapsed": false
   },
   "outputs": [
   ],
   "source": [
   ]
  },
  {
   "cell_type": "markdown",
   "metadata": {
    "collapsed": false
   },
   "source": [
    "## Extensions\n",
    "1. Investgate the [Prime Number Theorem](https://en.wikipedia.org/wiki/Prime_number_theorem).\n",
    "1. Write a function `volume_of_revolution(func, x_min, x_max, n)` which calculates the volume of the surface of revolution of the curve given by function `func`. `func(x)` should be a function of a single variable which returns the y-value of the curve given the x value. You'll have to learn how to [pass a function as an argument to another function](https://www.geeksforgeeks.org/passing-function-as-an-argument-in-python/).\n",
    "\n",
    "\n",
    "\n"
   ]
  },
  {
   "cell_type": "code",
   "execution_count": 0,
   "metadata": {
    "collapsed": false
   },
   "outputs": [
   ],
   "source": [
   ]
  }
 ],
 "metadata": {
  "kernelspec": {
   "display_name": "Python 3 (system-wide)",
   "language": "python",
   "metadata": {
    "cocalc": {
     "description": "Python 3 programming language",
     "priority": 100,
     "url": "https://www.python.org/"
    }
   },
   "name": "python3",
   "resource_dir": "/ext/jupyter/kernels/python3"
  },
  "language_info": {
   "codemirror_mode": {
    "name": "ipython",
    "version": 3
   },
   "file_extension": ".py",
   "mimetype": "text/x-python",
   "name": "python",
   "nbconvert_exporter": "python",
   "pygments_lexer": "ipython3",
   "version": "3.8.10"
  }
 },
 "nbformat": 4,
 "nbformat_minor": 4
}