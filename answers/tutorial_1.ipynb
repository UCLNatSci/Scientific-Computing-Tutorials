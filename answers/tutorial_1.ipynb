{
 "cells": [
  {
   "cell_type": "markdown",
   "metadata": {
    "collapsed": false
   },
   "source": [
    "# Tutorial 1\n",
    "\n",
    "## Question 1\n",
    "A time `t` in seconds can be converted to days, hours, minutes and seconds using integer division:\n",
    "\n",
    "1. Divide `t` by 60; set `t` to the quotient and call the remainder `s`.\n",
    "1. Divide `t` by 60; set `t` to the quotient and call the remainder `m`.\n",
    "1. Divide `t` by 24; set `d` to the quotient and call the remainder `h`.\n",
    "\n",
    "Calculate the number of days, hours, minutes and seconds in one million seconds. Display the result as follows:\n",
    "\n",
    "    1000000 seconds is xx days H:M:S\n"
   ]
  },
  {
   "cell_type": "markdown",
   "metadata": {
    "collapsed": false
   },
   "source": [
    "## Question 3\n",
    "\n",
    "We can calculate how many digits there are in a number by repeatedly dividing by 10 until the number is less than one.\n",
    "\n",
    " - Write peudo-code for this calculation\n",
    " - Write a Python program to implement this, displaying the result in the format `1234 has 4 digits.`\n",
    " - Test your program with a variety of numbers\n",
    " - Extend your program so that it works for negative numbers\n"
   ]
  },
  {
   "cell_type": "code",
   "execution_count": 0,
   "metadata": {
    "collapsed": false
   },
   "outputs": [
   ],
   "source": [
   ]
  },
  {
   "cell_type": "code",
   "execution_count": 2,
   "metadata": {
    "collapsed": false
   },
   "outputs": [
    {
     "name": "stdout",
     "output_type": "stream",
     "text": [
      "1000000 seconds is 11 days 13:46:40\n"
     ]
    }
   ],
   "source": [
    "t = 1000000\n",
    "t_orig = t\n",
    "s = t % 60\n",
    "t = t // 60\n",
    "m = t % 60\n",
    "t = t // 60\n",
    "h = t % 24\n",
    "d = t // 24\n",
    "\n",
    "print(t_orig, \" seconds is \", d, \" days \", h, \":\", m, \":\", s, sep=\"\")"
   ]
  },
  {
   "cell_type": "markdown",
   "metadata": {
    "collapsed": false
   },
   "source": [
    "## Question 2 (The Collatz Problem)\n",
    "\n",
    "Given a positive integer `n`, the Collatz Operation is defined as follows:\n",
    "    \n",
    " - If the number is even, divide it by two\n",
    " - If the number is odd, triple it and add one\n",
    " \n",
    "Repeatedly applying the Collatz Operation results in a sequence if integers which eventually reaches the number 1.\n",
    "\n",
    "Write a program which generates the Collatz Sequence for a given positive integer $n$. \n",
    "\n",
    "For example, if `n = 5` then your program should produce the following:\n",
    "\n",
    "```\n",
    "5\n",
    "16\n",
    "8\n",
    "4\n",
    "2\n",
    "1\n",
    "```\n",
    "\n",
    "Now try your program with negative values of `n`. What happens? Explain why."
   ]
  },
  {
   "cell_type": "code",
   "execution_count": 12,
   "metadata": {
    "collapsed": false
   },
   "outputs": [
    {
     "name": "stdout",
     "output_type": "stream",
     "text": [
      "5510\n",
      "2755\n",
      "8266\n",
      "4133\n",
      "12400\n",
      "6200\n",
      "3100\n",
      "1550\n",
      "775\n",
      "2326\n",
      "1163\n",
      "3490\n",
      "1745\n",
      "5236\n",
      "2618\n",
      "1309\n",
      "3928\n",
      "1964\n",
      "982\n",
      "491\n",
      "1474\n",
      "737\n",
      "2212\n",
      "1106\n",
      "553\n",
      "1660\n",
      "830\n",
      "415\n",
      "1246\n",
      "623\n",
      "1870\n",
      "935\n",
      "2806\n",
      "1403\n",
      "4210\n",
      "2105\n",
      "6316\n",
      "3158\n",
      "1579\n",
      "4738\n",
      "2369\n",
      "7108\n",
      "3554\n",
      "1777\n",
      "5332\n",
      "2666\n",
      "1333\n",
      "4000\n",
      "2000\n",
      "1000\n",
      "500\n",
      "250\n",
      "125\n",
      "376\n",
      "188\n",
      "94\n",
      "47\n",
      "142\n",
      "71\n",
      "214\n",
      "107\n",
      "322\n",
      "161\n",
      "484\n",
      "242\n",
      "121\n",
      "364\n",
      "182\n",
      "91\n",
      "274\n",
      "137\n",
      "412\n",
      "206\n",
      "103\n",
      "310\n",
      "155\n",
      "466\n",
      "233\n",
      "700\n",
      "350\n",
      "175\n",
      "526\n",
      "263\n",
      "790\n",
      "395\n",
      "1186\n",
      "593\n",
      "1780\n",
      "890\n",
      "445\n",
      "1336\n",
      "668\n",
      "334\n",
      "167\n",
      "502\n",
      "251\n",
      "754\n",
      "377\n",
      "1132\n",
      "566\n",
      "283\n",
      "850\n",
      "425\n",
      "1276\n",
      "638\n",
      "319\n",
      "958\n",
      "479\n",
      "1438\n",
      "719\n",
      "2158\n",
      "1079\n",
      "3238\n",
      "1619\n",
      "4858\n",
      "2429\n",
      "7288\n",
      "3644\n",
      "1822\n",
      "911\n",
      "2734\n",
      "1367\n",
      "4102\n",
      "2051\n",
      "6154\n",
      "3077\n",
      "9232\n",
      "4616\n",
      "2308\n",
      "1154\n",
      "577\n",
      "1732\n",
      "866\n",
      "433\n",
      "1300\n",
      "650\n",
      "325\n",
      "976\n",
      "488\n",
      "244\n",
      "122\n",
      "61\n",
      "184\n",
      "92\n",
      "46\n",
      "23\n",
      "70\n",
      "35\n",
      "106\n",
      "53\n",
      "160\n",
      "80\n",
      "40\n",
      "20\n",
      "10\n",
      "5\n",
      "16\n",
      "8\n",
      "4\n",
      "2\n",
      "1\n"
     ]
    }
   ],
   "source": [
    "n = 5510\n",
    "\n",
    "print(n)\n",
    "while n != 1:\n",
    "    if n % 2 == 0:\n",
    "        n = n //2\n",
    "    else:\n",
    "        n = 3*n + 1\n",
    "    print(n)\n",
    "    "
   ]
  },
  {
   "cell_type": "markdown",
   "metadata": {
    "collapsed": false
   },
   "source": [
    "## Question 4 (Optional Challenge)\n",
    "\n",
    "Given a positive integer $n$, define the Collatz Number $C(n)$ to be the length of the Collatz Sequence for $n$. For example $C(5) = 6$.\n",
    "\n",
    "What is the smallest number $n$ whose Collatz Number $C(n)$ is greater than one million?"
   ]
  },
  {
   "cell_type": "code",
   "execution_count": 0,
   "metadata": {
    "collapsed": false
   },
   "outputs": [
   ],
   "source": [
   ]
  }
 ],
 "metadata": {
  "kernelspec": {
   "display_name": "Python 3 (system-wide)",
   "language": "python",
   "metadata": {
    "cocalc": {
     "description": "Python 3 programming language",
     "priority": 100,
     "url": "https://www.python.org/"
    }
   },
   "name": "python3",
   "resource_dir": "/ext/jupyter/kernels/python3"
  },
  "language_info": {
   "codemirror_mode": {
    "name": "ipython",
    "version": 3
   },
   "file_extension": ".py",
   "mimetype": "text/x-python",
   "name": "python",
   "nbconvert_exporter": "python",
   "pygments_lexer": "ipython3",
   "version": "3.8.10"
  }
 },
 "nbformat": 4,
 "nbformat_minor": 4
}