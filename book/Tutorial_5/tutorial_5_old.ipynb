{
 "cells": [
  {
   "cell_type": "markdown",
   "metadata": {
    "collapsed": false
   },
   "source": [
    "# Tutorial 5"
   ]
  },
  {
   "cell_type": "markdown",
   "metadata": {
    "collapsed": false
   },
   "source": [
    "## Tutorial Questions"
   ]
  },
  {
   "cell_type": "markdown",
   "metadata": {
    "collapsed": false
   },
   "source": [
    "The purpose of this question is to simulate the trajectory of an object under gravity. The question adapts and extends the techniques for solving differential equations explained in the 'Linear Oscillator' example. Make sure you can understand that example before attempting this question.\n",
    "\n",
    "See the accompanying file `gravity_notes.ipynb` for a derivation of the equations of motion of an object moving under gravity.\n",
    "\n",
    "### Part 1\n",
    "\n",
    "First you will consider the one-dimensional case of a projectile fired vertically from the surface of The Earth. Does it fall back to earth or does it escape into space? \n",
    "\n",
    "A projectile at distance $x$ from the centre of the Earth and moving at a velocity $v$ in a vertical direction moves according to the following coupled pair of differential equations:\n",
    "\n",
    "$$\\begin{align*}\n",
    "\\frac{dx}{dt} &= v\\\\\n",
    "\\frac{dv}{dt} &= -\\frac{Gm_\\mathrm{e}}{x^2}\n",
    "\\end{align*}$$\n",
    "\n",
    "Determine the update rule which calculates $x_{i+1}$ and $v_{i+1}$ from $x_{i}$ and $v_{i}$, then adapt the linear oscillator example to calculate the trajectory of the projectile. Plot the trajectory as distance `x` against time `t` and determine at what time the projectile returns to The Earth's surface.\n",
    "\n",
    "| | |\n",
    "|---|---|\n",
    "|duration | $10000~\\mathrm{s}$|\n",
    "|time step | $1~\\mathrm{s}$|\n",
    "|mass of Earth | $5.972 \\times 10^{24}~\\mathrm{kg}$|\n",
    "|radius of Earth | $6.371~\\times 10^6~\\mathrm{m}$ |\n",
    "|initial velocity | $5000~\\mathrm{m}/\\mathrm{s}$ |\n",
    "|gravitational constant | $6.674 \\times 10^{11}~\\mathrm{Nm}^2/\\mathrm{kg}^2$ |\n",
    "\n",
    "**Hint** you should exit the loop (using the `break` keyword) once the projectile's position falls below the surface of the earth."
   ]
  },
  {
   "cell_type": "markdown",
   "metadata": {
    "collapsed": false
   },
   "source": [
    "### Part 2\n",
    "\n",
    "By experimenting with different values of $v_0$, find an estimate of The Earth's escape velocity (the minimum initial velocity that results in the projectile escaping into space).\n",
    "\n",
    "(You will have to increase the duration of the simulation. You might need to increase the time step $\\Delta t$ in order for the simulation to run in a reasonable time - but this will decrease the accuracy. Experiment!)"
   ]
  },
  {
   "cell_type": "markdown",
   "metadata": {
    "collapsed": false
   },
   "source": [
    "### Part 3\n",
    "\n",
    "The previous example only considered motion in one dimension. In this part you will extend to two dimensions.\n",
    "\n",
    "Consider a projectile fired horizontally from the surface of the earth. Its position $\\mathbf{x} = (x_1, x_2)$ relative to the centre of The Earth and its velocity is $\\mathbf{v} = (v_1, v_2)$. The distance between the projectile and the centre of The Earth is $r = \\sqrt{x_1^2 + x_2^2}$.\n",
    "\n",
    "The vector equations governing its motion are:\n",
    "$$\\begin{align*}\n",
    "\\frac{d\\mathbf{x}}{dt} &= \\mathbf{v}\\\\\n",
    "\\frac{d\\mathbf{v}}{dt} &= -\\frac{Gm_\\mathrm{e}}{r^3}\\mathbf{x}\n",
    "\\end{align*}$$\n",
    "\n",
    "Defining a timestep $\\Delta t$:\n",
    "\n",
    "$$ \\begin{align*}\n",
    "\\mathbf{x}_{i+1} &= \\mathbf{x}_i + \\mathbf{v}_i\\Delta t\\\\\n",
    "\\mathbf{v}_{i+1} &= \\mathbf{v}_i -\\frac{Gm_\\mathrm{e}}{r^3}\\mathbf{x_i}\\Delta t\n",
    "\\end{align*}$$\n",
    "\n",
    "Since $\\mathbf{x}_i$ and $\\mathbf{x}_i$ and are 2-dimensional vectors, `x` and `v` are now 2 by `n_steps` numpy arrays, where `x[0,i]` and `x[1,i]` are $x_1$ and $x_2$ co-ordinates of the projectile at timestep `i`.\n",
    "\n",
    "```\n",
    "x = np.zeros((2, n_steps))\n",
    "v = np.zeros((2, n_steps))\n",
    "```\n",
    "\n",
    "The update step for the position `x` becomes:\n",
    "\n",
    "```\n",
    "x[:,i+1] = x[:,i] + v[:,i] * delta_t\n",
    "```\n",
    "\n",
    "Determine the code for the update step for the velocity `v` (hint: first calculate the value of the scalar quantity `r`).\n",
    "\n",
    "Use this code to write a simulation of the trajectory of the projectile. Create three plots of its trajectory, $x_1$ against $t$, $x_2$ against $t$, and $x_1$ against $x_2$.\n",
    "\n",
    "\n",
    "| | |\n",
    "|---|---|\n",
    "|duration | $10000~\\mathrm{s}$|\n",
    "|time step | $1~\\mathrm{s}$|\n",
    "|mass of Earth | $5.972 \\times 10^{24}~\\mathrm{kg}$|\n",
    "|radius of Earth | $6.371~\\times 10^6~\\mathrm{m}$ |\n",
    "|initial velocity (horizontal) | $10000~\\mathrm{m}/\\mathrm{s}$ |\n",
    "|initial velocity (vertical) | $0~\\mathrm{m}/\\mathrm{s}$ |\n",
    "|gravitational constant | $6.674 \\times 10^{11}~\\mathrm{Nm}^2/\\mathrm{kg}^2$ |"
   ]
  },
  {
   "cell_type": "markdown",
   "metadata": {
    "collapsed": false
   },
   "source": [
    "### Part 4\n",
    "\n",
    "The kinetic energy (in Joules) of the projectile is given by the equation\n",
    "\n",
    "$$ E_\\mathrm{K} = \\frac{1}{2}{mv}^2$$\n",
    "\n",
    "where $m$ is the mass of the projectile and $v$ is the magnitude of its velocity.\n",
    "\n",
    "Its potential energy (in Joules) is given by:\n",
    "\n",
    "$$ E_\\mathrm{P} = -\\frac{Gm_\\mathrm{e}mv}{r}$$\n",
    "\n",
    "where $r$ is the distance between the projectile and the centre of The Earth.\n",
    "\n",
    "Use array slicing and vector operations to calculate one-dimensional arrays `E_K` and `E_P` representing the kinetic and potential energies of the projectile (i.e. `E_K[i]` is the kinetic energy at time point `i`). Plot `E_K`, `E_P` and the total energy `E_K` + `E_P` on the same graph. Add suitable x and y labels and a legend.\n"
   ]
  },
  {
   "cell_type": "code",
   "execution_count": 0,
   "metadata": {
    "collapsed": false
   },
   "outputs": [
   ],
   "source": [
   ]
  }
 ],
 "metadata": {
  "kernelspec": {
   "display_name": "Python 3 (system-wide)",
   "language": "python",
   "metadata": {
    "cocalc": {
     "description": "Python 3 programming language",
     "priority": 100,
     "url": "https://www.python.org/"
    }
   },
   "name": "python3",
   "resource_dir": "/ext/jupyter/kernels/python3"
  }
 },
 "nbformat": 4,
 "nbformat_minor": 4
}