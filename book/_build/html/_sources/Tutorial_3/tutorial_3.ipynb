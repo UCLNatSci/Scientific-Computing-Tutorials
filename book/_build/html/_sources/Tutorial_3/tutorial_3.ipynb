{
 "cells": [
  {
   "cell_type": "markdown",
   "metadata": {
    "collapsed": false
   },
   "source": [
    "# Tutorial 3"
   ]
  },
  {
   "cell_type": "markdown",
   "metadata": {
    "collapsed": false
   },
   "source": [
    "## Question 1\n",
    "\n",
    "Given a string representing a DNA sequence, we want to print a sequence of nucleotide names:\n",
    "```\n",
    "dna_seq = \"gttccccaagctcttacataaatgtcgtagggttccagctacgtgttgttgggccaccca\"\n",
    "```\n",
    "Output:\n",
    "```\n",
    "Guanine\n",
    "Thymine\n",
    "Thymine\n",
    "Cytosine\n",
    "...\n",
    "```\n",
    "- Create two lists `letters = [\"A\", \"G\", \"C\", \"T\"]` and `names = [\"Adenine\", \"Guanine\", \"Cytosine\", \"Thymine\"]`\n",
    "- Loop over every character in `dna_seq`. For each character:\n",
    "  - Find the index of the character in `letters`\n",
    "  - Print the item in the equivalent position in `names`\n",
    "\n",
    "**HINT**: First try just for a single letter. E.g. given `nuc = \"A\"`, print `Adenine`.\n"
   ]
  },
  {
   "cell_type": "code",
   "execution_count": 0,
   "metadata": {
    "collapsed": false
   },
   "outputs": [
   ],
   "source": [
   ]
  },
  {
   "cell_type": "markdown",
   "metadata": {
    "collapsed": false
   },
   "source": [
    "### Question 2\n",
    "\n",
    "> TODO: rewrite this\n",
    "\n",
    "A cannon located at position `x = 0` fires a cannonball at an angle `theta` from the horizontal (measured in radians) and speed `speed` m/s. Write a program which plots a graph of the cannonball's trajectory.\n",
    "\n",
    "```{image} cannon.jpg\n",
    ":width: 200px\n",
    "```\n",
    "\n",
    "Set the initial positions `x` and `y` to zero and velocities `vx` and `vy` to `np.cos(theta)` and `np.sin(theta)`. Each time step, update the positions using `x = x + vx * DELTA_T` and `y = y + vy * DELTA_T`. Update the velocity `vy = vy - g * DELTA_T`. The x velocity remains constant.\n",
    "Create lists `x_list` and `y_list` to store the x and y positions, appending the new positions at each timestep.\n",
    "\n",
    "Repeat until the `y` position becomes negative (what kind of loop should you use for this?). Finally, use `matplotlib` to plot the two lists.\n",
    "\n",
    "\n",
    "Extend your program so that it prints `hit` or `miss` depending if the cannonball lands less than 20m from a target placed at a distance `dis` from the cannon.\n",
    "\n",
    "```{image} cannon_output.png\n",
    ":width: 200px\n",
    "```\n",
    "`hit`"
   ]
  },
  {
   "cell_type": "code",
   "execution_count": 0,
   "metadata": {
    "collapsed": false
   },
   "outputs": [
   ],
   "source": [
   ]
  },
  {
   "cell_type": "markdown",
   "metadata": {
    "collapsed": false
   },
   "source": [
    "### Question 3\n",
    "\n",
    "Recall the Collatz Operation from the first week:\n",
    "\n",
    " - If `n` is even, divide it by two\n",
    " - If `n` is odd, triple it and add one\n",
    " \n",
    "If we repeatedly apply the operation, we get a sequence of integers which terminates at the number 1. We define the 'Collatz number' of an integer $n$ to be the number of iterations in the sequence.\n",
    " \n",
    "Write a program which generates a line graph with integers 0 ... 100 on the x-axis, and Collatz number on the y axis.\n",
    " "
   ]
  },
  {
   "cell_type": "code",
   "execution_count": 0,
   "metadata": {
    "collapsed": false
   },
   "outputs": [
   ],
   "source": [
   ]
  }
 ],
 "metadata": {
  "kernelspec": {
   "display_name": "Python 3 (system-wide)",
   "language": "python",
   "metadata": {
    "cocalc": {
     "description": "Python 3 programming language",
     "priority": 100,
     "url": "https://www.python.org/"
    }
   },
   "name": "python3",
   "resource_dir": "/ext/jupyter/kernels/python3"
  }
 },
 "nbformat": 4,
 "nbformat_minor": 4
}