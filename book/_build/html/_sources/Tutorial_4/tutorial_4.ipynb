{
 "cells": [
  {
   "cell_type": "markdown",
   "metadata": {
    "collapsed": false
   },
   "source": [
    "# Tutorial 4\n",
    "\n",
    "## Practice Questions"
   ]
  },
  {
   "cell_type": "markdown",
   "metadata": {
    "collapsed": false
   },
   "source": [
    "### Question 1\n",
    "\n",
    "Write a Python script which loops over the characters in a string and prints the three character substring starting at each character:\n",
    "\n",
    "```\n",
    "s = \"ABCDEFGHIJKLMNOPQRSTUVWXYZ\"\n",
    "...\n",
    "```\n",
    "Output:\n",
    "```\n",
    "ABC\n",
    "BCD\n",
    "CDE\n",
    "...\n",
    "XYZ\n",
    "```\n",
    "\n",
    "### Question 2\n",
    "\n",
    "Write a program which loops over the characters of a string **three at a time** and prints each three character substring. If the number of characters is not divisible by three, ignore the trailing characters.\n",
    "\n",
    "```\n",
    "s = \"ABCDEFGHIJKLMNOPQRSTUVWXYZ\"\n",
    "...\n",
    "```\n",
    "Output:\n",
    "```\n",
    "ABC\n",
    "DEF\n",
    "GHI\n",
    "...\n",
    "VWX\n",
    "```\n",
    "\n",
    "### Question 3\n",
    "\n",
    "Write a program which loops over the characters of `s` three at a time, in the same manner as question 2. Use `string_list.index` to find the position of each 3-character string in `string_list`, then print the character in the equivalent position in `character_list`. \n",
    "\n",
    "```\n",
    "s = \"ABCDEFGHIJKLMNOPQRSTUVWXYZ\"\n",
    "string_list = [\"MNO\", \"DEF\", \"VWX\", \"JKL\", \"PQR\", \"ABC\", \"STU\", \"GHI\"]\n",
    "character_list = [\"N\", \"C\", \"!\", \"E\", \"C\", \"S\", \"E\", \"I\"]\n",
    "...\n",
    "```\n",
    "output:\n",
    "```\n",
    "S\n",
    "C\n",
    "I\n",
    "E\n",
    "N\n",
    "C\n",
    "E\n",
    "!\n",
    "```"
   ]
  },
  {
   "cell_type": "markdown",
   "metadata": {
    "collapsed": false
   },
   "source": [
    "### Question 4\n",
    "\n",
    "What image does the data in the string `shape_data` represent?\n",
    "The  string contains a sequence of x and y co-ordinates where each x, y pair is separated by a semi-colon. Extract the co-ordinates into two separate lists `x_coords` and `y-coords` then plot them on a scatter plot.\n",
    "\n",
    "- use `string.split` to generate a list of co-ordinate pairs\n",
    "- loop over the list and split each pair into x and y co-ordinates\n",
    "- convert each to a number and add to lists `x_coords` and `y_coords`\n",
    "- plot using `plt.scatter(x_coords, y_coords)`\n",
    "\n",
    "Adapt your code so that it plots the image the correct way up in a figure of  suitable size."
   ]
  },
  {
   "cell_type": "markdown",
   "metadata": {
    "collapsed": false
   },
   "source": [
    "## Tutorial Questions"
   ]
  },
  {
   "cell_type": "markdown",
   "metadata": {
    "collapsed": false
   },
   "source": [
    "## Question 1\n",
    "\n",
    "In biology, an RNA sequence consists of a chain of the nucleotides Adenine, Uracil, Cytosine and Guanine in a specific order. We can represent an RNA sequence by a string consisting of the four letters `A`, `U`, `C` and `G` [1].\n",
    "```\n",
    "rna_seq = \"GCAUAUGUUCAUAUGAAUA\"\n",
    "```\n",
    "each three character substring identifies a 'codon' which either identifies a specific amino acid within a protein, or a 'start' or 'stop' instruction.  \n",
    "\n",
    "start codon: AUG  \n",
    "stop codons: UAA, UAG, UGA  \n",
    "\n",
    "|Amino Acid| | codons |\n",
    "|---|---|---|\n",
    "|Glycine|G|GGA, GGU, GGG, GGC|\n",
    "|Alanine|A|GCA, GCU, GCG, GCC|\n",
    "|Valine|V|GUA, GUU, GUG, GUC|\n",
    "|Leucine|L|UUA, UUG, CUU, CUC, CUA, CUG|\n",
    "|Isoleucine|I|AUA, AUU, AUC|\n",
    "|Serine|S|UCA, UCU, UCG, UCC, AGU, AGC|\n",
    "|Threonine|T|ACA, ACU, ACG, ACC|\n",
    "|Cysteine|C|UGU, UGC|\n",
    "|Methionine|M|AUG|\n",
    "|Lysine|K|AAA, AAG|\n",
    "|Arginine|R|CGA, CGU, CGG, CGC|\n",
    "|Histidine|H|CAU, CAC|\n",
    "|Proline|P|CCA, CCU, CCG, CCC|\n",
    "|Aspartic Acid|D|GAU, GAC|\n",
    "|Asparagine|N|AAU, AAC|\n",
    "|Glutamic Acid|E|GAA, GAG|\n",
    "|Glutamine|Q|CAA, CAG|\n",
    "|Phenyl Alanine|F|UUU, UUC|\n",
    "|Tyrosine|Y|UAU, UAC|\n",
    "|Tryptophane|W|UUG|\n",
    "\n",
    "\n",
    "Given an RNA sequence, we would like to identify all the amino acid-encoding codons (in **bold**) lying between with the first 'start' codon and the first 'stop' codon (in <span style=\"color:red\">red</span>).\n",
    "\n",
    "GCAU<span style=\"color:red\">AUG</span>**UUCAUA**<span style=\"color:red\">UGA</span>AUA\n",
    "\n",
    "amino acid-encoding codons:  \n",
    "UUC, AUA\n",
    "\n",
    "Having identified the codons, we can determine the sequence of amino acids by looking them up in the table above.\n",
    "\n",
    "amino acid sequence:  \n",
    "\n",
    "FI\n",
    "\n",
    "By following the steps below, write a program which translates an RNA sequence into a sequence of amino-acids.\n",
    "\n",
    "**Hint: Do Practice question 1 first.**\n",
    "\n",
    "\n",
    "### Step 1\n",
    "\n",
    "Write a program that loops over the characters in the string and checks whether each three character substring is equal to the 'start' codon, `AUG`. Once it finds the start codon, it should store the position in the variable `j`, then use the `break` keyword to abort the loop.\n",
    " \n",
    "For example,\n",
    "```\n",
    "rna_seq = \"GCAUAUGUUCAUAUGAAUA\"\n",
    "\n",
    "# Your code\n",
    "...\n",
    "\n",
    "print(j)\n",
    "```\n",
    "Output:\n",
    "```\n",
    "4\n",
    "```\n",
    "\n",
    "### Step 2\n",
    "\n",
    "Make a second loop which prints out three characters at a time, starting from position `j`.\n",
    "\n",
    "Abort the loop when it reaches one of the stop codons `UAA`, `UAG`, or `UGA`.\n",
    "\n",
    "Output:\n",
    "\n",
    "```\n",
    "UUC\n",
    "AUA\n",
    "```\n",
    "\n",
    "### Step 3\n",
    "\n",
    "Adapt the second loop so that it uses `list.index` to find the position of each codon in the list `genetic_code`, then prints out the character in the equivalent position in `amino_acids`.\n",
    "\n",
    "```\n",
    "genetic_code = ['GCA', 'GCC', 'GCG', 'GCU', 'UGC', 'UGU', 'GAC', 'GAU', 'GAA',\n",
    "                'GAG', 'UUC', 'UUU', 'GGA', 'GGC', 'GGG', 'GGU', 'CAC', 'CAU',\n",
    "                'AUA', 'AUC', 'AUU', 'AAA', 'AAG', 'UUA', 'UUG', 'CUA', 'CUC',\n",
    "                'CUG', 'CUU', 'AUG', 'AAC', 'AAU', 'CCA', 'CCC', 'CCG', 'CCU',\n",
    "                'CAA', 'CAG', 'AGA', 'AGG', 'CGA', 'CGC', 'CGU', 'CGG', 'AGC',\n",
    "                'AGU', 'UCA', 'UCC', 'UCG', 'UCU', 'ACA', 'ACC', 'ACG', 'ACU',\n",
    "                'GUA', 'GUC', 'GUG', 'GUU', 'UGG', 'UAC', 'UAU', 'UAG', 'UAA', 'UGA']\n",
    "\n",
    "amino_acids = ['A', 'A', 'A', 'A', 'C', 'C', 'D', 'D', 'E', 'E', 'F', 'F',\n",
    "               'G', 'G', 'G', 'G', 'H', 'H', 'I', 'I', 'I', 'K', 'K', 'L',\n",
    "               'L', 'L', 'L', 'L', 'L', 'M', 'N', 'N', 'P', 'P', 'P', 'P',\n",
    "               'Q', 'Q', 'R', 'R', 'R', 'R', 'R', 'R', 'S', 'S', 'S', 'S',\n",
    "               'S', 'S', 'T', 'T', 'T', 'T', 'V', 'V', 'V', 'V', 'W', 'Y',\n",
    "               'Y', '!', '!', '!']\n",
    "```\n",
    "\n",
    "### Step 4\n",
    "\n",
    "Test your finished program against the following RNA sequences:\n",
    "\n",
    "`rna_1 = \"CAACAAUGCUCCCCGCCUAGUUG\"`\n",
    "\n",
    "Output:\n",
    "\n",
    "```\n",
    "L\n",
    "P\n",
    "A\n",
    "```\n",
    "\n",
    "`rna_2 = \"UAAAAUGAAUAAUAGAUAA\"`\n",
    "\n",
    "Output:\n",
    "```\n",
    "N\n",
    "N\n",
    "R\n",
    "```\n",
    "\n",
    "[1] https://bmm.crick.ac.uk/~chalei01/tutorial/Session6/Rasp_Pi_Visit_6_handout.pdf"
   ]
  },
  {
   "cell_type": "code",
   "execution_count": 0,
   "metadata": {
    "collapsed": false
   },
   "outputs": [
   ],
   "source": [
   ]
  },
  {
   "cell_type": "markdown",
   "metadata": {
    "collapsed": false
   },
   "source": [
    "### Part 1\n",
    "Write a program which counts the frequency of each letter in the file `english.txt`, and displays the results as a [bar graph](https://matplotlib.org/3.1.1/api/_as_gen/matplotlib.pyplot.bar.html). Make sure to include upper and lower case characters but do not count them separately. Do not count punctuation or spaces.\n",
    "\n",
    "```{image} alphabet.png\n",
    ":width: 400px\n",
    "```\n",
    "\n",
    "Use the following code to load the contents of the text file into a string variable:\n",
    "```\n",
    "with open(\"english.txt\") as f:\n",
    "     text = f.read()\n",
    "```\n",
    "\n",
    "Hint: create a variable to store the alphabet and use `string.find` to locate each character in the alphabet.\n",
    "\n",
    "### Part 2\n",
    "Let $A_i$ be the relative frequency of letter $i$ in text $A$, where a is letter 0, b is letter 1 etc. (E.g. if A = \"alphabet!\", $A_0 = 2/8 = 0.25$ since the letter a appears 2 times out of 8 alphabetic characters). We define a similarity index for two pieces of text using the following formula:\n",
    "$$\\sum_{i=0}^{25} (A_i - B_i)^2$$\n",
    "\n",
    "Write a program which predicts the language of a piece of text by comparing the text to the each of the four languages English, French, German and Spanish. Relative frequencies for each these languages can be found here: https://en.wikipedia.org/wiki/Letter_frequency. (Make sure the relative frequences sum to 1!)\n",
    "\n",
    "Your program should calculate the value of the similarity index for each of the languages then print the name of the language with the lowest score."
   ]
  },
  {
   "cell_type": "code",
   "execution_count": 0,
   "metadata": {
    "collapsed": false
   },
   "outputs": [
   ],
   "source": [
   ]
  }
 ],
 "metadata": {
  "kernelspec": {
   "display_name": "Python 3 (system-wide)",
   "language": "python",
   "metadata": {
    "cocalc": {
     "description": "Python 3 programming language",
     "priority": 100,
     "url": "https://www.python.org/"
    }
   },
   "name": "python3",
   "resource_dir": "/ext/jupyter/kernels/python3"
  },
  "language_info": {
   "codemirror_mode": {
    "name": "ipython",
    "version": 3
   },
   "file_extension": ".py",
   "mimetype": "text/x-python",
   "name": "python",
   "nbconvert_exporter": "python",
   "pygments_lexer": "ipython3",
   "version": "3.8.10"
  }
 },
 "nbformat": 4,
 "nbformat_minor": 4
}