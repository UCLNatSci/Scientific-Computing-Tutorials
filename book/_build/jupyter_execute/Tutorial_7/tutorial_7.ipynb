{
 "cells": [
  {
   "cell_type": "markdown",
   "metadata": {
    "collapsed": false
   },
   "source": [
    "# Tutorial 7"
   ]
  },
  {
   "cell_type": "markdown",
   "metadata": {
    "collapsed": false
   },
   "source": [
    "## Question 1\n",
    "The folder `particle` contains a sequence of images of a bead undergoing [brownian motion](https://en.wikipedia.org/wiki/Brownian_motion). Your goal is to track the movement of the bead by identifying its position in each of the frames.\n",
    "\n",
    "> Download <a href=\"../tutorial_7/particle.zip\" download>particle.zip</a> then upload it to Cocalc. Unzip the folder by clicking the file then the 'Extract Files' button in Cocalc."
   ]
  },
  {
   "cell_type": "markdown",
   "metadata": {
    "collapsed": false
   },
   "source": [
    "### Part 1\n",
    "\n",
    "Follow the steps in the notes to determine the (x, y) co-ordinates of the bead in the image `particle/frame0.png`.\n",
    "1. Use `np.imread` to convert the image file to a numpy array.\n",
    "1. Convert the image to greyscale by summing along the final axis.\n",
    "1. Threshold the array. Determine a value for the threshold which results in just a single 'blob'.\n",
    "1. Determine the location using the function `sn.center_of_mass` (you do not need to determine the largest blob since there should be only one!)\n",
    "1. Use `plt.imshow` and `plt.scatter` to mark the location of the bead on the image, like this:\n",
    "\n",
    "![](q1.png)"
   ]
  },
  {
   "cell_type": "markdown",
   "metadata": {
    "collapsed": false
   },
   "source": [
    "### Part 2\n",
    "\n",
    "Use your code from Question 1 to write a Python function `get_particle_location(filename)` which returns the (x, y) co-ordinates of the bead in the image file `filename`.\n",
    "\n",
    "```\n",
    "loc = get_particle_location(\"particle/frame0.png\")\n",
    "print(loc)\n",
    "(98.92857142857143, 71.60714285714286)\n",
    "```"
   ]
  },
  {
   "cell_type": "markdown",
   "metadata": {
    "collapsed": false
   },
   "source": [
    "### Part 3\n",
    "\n",
    "By calling your function `get_particle_location` on each of the files, construct a 2 by 10 numpy array containing the co-ordinates of the bead in each of the 10 frames.\n",
    "\n",
    "Make a plot of x vs time, y vs time and y vs x. Make sure you scale the axes so that they correspond to the dimensions of the image, as below.\n",
    "\n",
    "![](b2.png) ![](b3.png) ![](b1.png)"
   ]
  },
  {
   "cell_type": "markdown",
   "metadata": {
    "collapsed": false
   },
   "source": [
    "## Question 2\n",
    "\n",
    "Repeat the above question for the noisy images in the folder `particle_noisy`.\n",
    "\n",
    "<a href=\"../tutorial_7/particle_noisy.zip\" download>particle_noisy.zip</a>\n",
    "\n",
    "For Part 1, you will have to choose a suitable threshold then pick the blob with the largest size, as in the notes.\n",
    "\n",
    "For Part 3, can you find a value of the threshold that works for all of the images? If not, how could you solve this?\n"
   ]
  }
 ],
 "metadata": {
  "kernelspec": {
   "display_name": "Python 3 (system-wide)",
   "language": "python",
   "metadata": {
    "cocalc": {
     "description": "Python 3 programming language",
     "priority": 100,
     "url": "https://www.python.org/"
    }
   },
   "name": "python3",
   "resource_dir": "/ext/jupyter/kernels/python3"
  },
  "language_info": {
   "codemirror_mode": {
    "name": "ipython",
    "version": 3
   },
   "file_extension": ".py",
   "mimetype": "text/x-python",
   "name": "python",
   "nbconvert_exporter": "python",
   "pygments_lexer": "ipython3",
   "version": "3.8.10"
  }
 },
 "nbformat": 4,
 "nbformat_minor": 4
}