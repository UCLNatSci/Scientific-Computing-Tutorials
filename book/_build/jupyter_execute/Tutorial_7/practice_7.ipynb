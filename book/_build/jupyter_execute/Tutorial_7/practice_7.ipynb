{
 "cells": [
  {
   "cell_type": "markdown",
   "metadata": {
    "collapsed": false
   },
   "source": [
    "# Practice 7"
   ]
  },
  {
   "cell_type": "markdown",
   "metadata": {
    "collapsed": false
   },
   "source": [
    "## Question 1\n",
    "\n",
    "Follow the steps below to create a 3 x 5 numpy array representing the following data:\n",
    "\n",
    "$$\\begin{matrix}\n",
    "0 & 1 & 2 & 3 & 4 \\\\\n",
    "0 & 1.5 & 3 & 4.5 & 6\\\\\n",
    "0 & 0.25 & 0.5 & 0.75 & 1\n",
    "\\end{matrix}$$\n",
    "\n",
    "1. Use `np.linspace` or `np.arange` to create three 1 x 5 arrays `[0 1 2 3 4]`, `[0. 1.5 3. 4.5 6.]` and `[0 0.25 0.5 0.75 1.]`.\n",
    "1. Use `np.zeros` to create an 5 x 3 array of zeros.\n",
    "1. Use slicing to assign each 1 x 5 array to each row of the array.\n"
   ]
  },
  {
   "cell_type": "code",
   "execution_count": 0,
   "metadata": {
    "collapsed": false
   },
   "outputs": [],
   "source": []
  },
  {
   "cell_type": "markdown",
   "metadata": {
    "collapsed": false
   },
   "source": [
    "## Question 2\n",
    "\n",
    "Use `np.sum` to create:\n",
    "1. A 1 x 3 array containing the sum of the rows\n",
    "1. A 1 x 5 array containing the sum of the columns\n",
    "\n",
    "of the array created in Question 1."
   ]
  },
  {
   "cell_type": "code",
   "execution_count": 0,
   "metadata": {
    "collapsed": false
   },
   "outputs": [],
   "source": []
  },
  {
   "cell_type": "markdown",
   "metadata": {
    "collapsed": false
   },
   "source": [
    "## Question 3\n",
    "Write a function `threshold(a, x)` which thresholds the array `a` at the value `x`. The array returned be the function should be the same shape as `a`, and `True` where `a` greater or equal to x, otherwise `False`.\n",
    "If `q1` is the array from Question 1:\n",
    "```\n",
    "z = threshold(q1, 1.5)\n",
    "print(z)\n",
    "[[False False  True  True  True]\n",
    " [False  True  True  True  True]\n",
    " [False False False False False]]\n",
    "```"
   ]
  },
  {
   "cell_type": "code",
   "execution_count": 0,
   "metadata": {
    "collapsed": false
   },
   "outputs": [],
   "source": []
  },
  {
   "cell_type": "markdown",
   "metadata": {
    "collapsed": false
   },
   "source": [
    "## Question 4\n",
    "\n",
    "The image file `sixbysix.png` (<a href=\"../tutorial_7/sixbysix.png\" download>download</a>) consists of a large but faint blob in the top left, and a number of small bright pixels elsewhere. Follow the particle tracking method in the notes to find and mark the large blob, as below.\n",
    "\n",
    "1. Read the image into an array and reduce to greyscale\n",
    "1. Threshold the array at a suitable value\n",
    "1. Find all blobs in the image\n",
    "1. Identify the largest blob\n",
    "1. Determine the co-ordinates of the largest blob and \n",
    "\n",
    "![](sixbysix_marked.png)"
   ]
  },
  {
   "cell_type": "code",
   "execution_count": 0,
   "metadata": {
    "collapsed": false
   },
   "outputs": [],
   "source": []
  }
 ],
 "metadata": {
  "kernelspec": {
   "display_name": "Python 3 (system-wide)",
   "language": "python",
   "metadata": {
    "cocalc": {
     "description": "Python 3 programming language",
     "priority": 100,
     "url": "https://www.python.org/"
    }
   },
   "name": "python3",
   "resource_dir": "/ext/jupyter/kernels/python3"
  },
  "language_info": {
   "codemirror_mode": {
    "name": "ipython",
    "version": 3
   },
   "file_extension": ".py",
   "mimetype": "text/x-python",
   "name": "python",
   "nbconvert_exporter": "python",
   "pygments_lexer": "ipython3",
   "version": "3.8.10"
  }
 },
 "nbformat": 4,
 "nbformat_minor": 4
}