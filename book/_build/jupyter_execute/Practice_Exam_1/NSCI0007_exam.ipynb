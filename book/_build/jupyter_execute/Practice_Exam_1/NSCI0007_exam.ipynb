{
 "cells": [
  {
   "cell_type": "markdown",
   "metadata": {
    "collapsed": false
   },
   "source": [
    "# NSCI0007 Practice Exam 1\n",
    "**Exam Start:** N/A  \n",
    "**Exam End:** N/A\n",
    "## Instructions\n",
    "- Enter your answers in the file `answers.ipynb` in the practice exam folder.\n",
    "\n",
    "## Genome Sequencing\n",
    "\n",
    "A genome is an organism's complete set of deoxyribonucleic acid (DNA), a chemical compound that contains the genetic instructions needed to develop and direct the activities of every organism. A strand of DNA is made of four chemical units, called nucleotide bases. The bases are adenine (A), thymine (T), guanine (G) and cytosine (C).\n",
    "\n",
    "In this assessment you will use a method similar to the Human Genome Project to sequence DNA. In a laboratory, a strand of DNA is duplicated several times, then all the strands are broken into smaller, overlapping fragments. The bases of the smaller fragments are determined and entered into a file. The goal of this assessment is to reconstruct a full DNA strand from the set of DNA fragments.\n",
    "\n",
    "The basic operation is to process all the fragments by matching two fragments and merging them into a new fragment. This process decreases the number of fragments by one since two fragments are merged into one. The match/merge operation is repeated until there is only one fragment left - this will be the original DNA - or until no further matches are possible.\n",
    "\n",
    "Our starting point is a list of strings, each string representing a DNA fragment:\n",
    "\n",
    "```\n",
    "['tgaaaattcctttctattttaggccc', 'tgaaaattcctttctattttaggcccatgcaat', 'ggcattagggcggttaa', 'atgcaatggcattagggcggttaa', 'ggttaa', 'tgaaaattcctttctattt', 'taggcccatgcaatggcattagggc']\n",
    "```\n",
    "\n",
    "We identify a pair of strings where the end of one string matches the start of the other.\n",
    "\n",
    "```\n",
    "taggcccatgcaatggcattagggc\n",
    "              ggcattagggcggttaa\n",
    "```\n",
    "A new string is formed by merging the two together:\n",
    "```\n",
    "taggcccatgcaatggcattagggcggttaa\n",
    "```\n",
    "The pair of strings are then replaced by the merged string in the list.\n",
    "\n",
    "This process is repeated until no further matches are possible."
   ]
  },
  {
   "cell_type": "markdown",
   "metadata": {
    "collapsed": false
   },
   "source": [
    "## Question 1 [7]\n",
    "The overlap between two strings `x` and `y` is the largest number `n` such that the last `n` characters of `x` are the same as the first `n` characters of `y`.\n",
    " - Write a function `overlap(x, y)` which returns the overlap between strings `x` and `y`\n",
    " - Test your function using the code below.\n",
    "\n",
    "```\n",
    "n1 = overlap(\"XXXABC\", \"ABCYYY\")\n",
    "n2 = overlap(\"ABCYYY\", \"XXXABC\")\n",
    "n3 = overlap(\"XXXABC\", \"ABC\")\n",
    "print(n1, n2, n3)\n",
    "3 0 3\n",
    "```\n"
   ]
  },
  {
   "cell_type": "markdown",
   "metadata": {
    "collapsed": false
   },
   "source": [
    "## Question 2 [5]\n",
    "\n",
    " - Write a function `merge(x, y)` which returns a string formed by overlapping the two strings `x` and `y`.\n",
    " - Test your function using the code below.\n",
    "```\n",
    "s1 = merge(\"XXXABC\", \"ABCYYY\")\n",
    "s2 = merge(\"ABCYYY\", \"XXXABC\")\n",
    "s3 = merge(\"XXXABC\", \"ABC\")\n",
    "print(s1, s2, s3)\n",
    "XXXABCYYY ABCYYYXXXABC XXXABC\n",
    "```"
   ]
  },
  {
   "cell_type": "markdown",
   "metadata": {
    "collapsed": false
   },
   "source": [
    "## Question 3 [10]\n",
    "- Write a function `longest_overlap(string_list)` which returns a list `[i, j, k]` of three integers.\n",
    "\n",
    "The function should loop over every pair of strings in `string_list` to determine the pair with the largest overlap. It should return a list `[i, j, k]` where `i` and `j` are the indices of the two strings in `string_list` and `k` is the overlap. (It may be the case that more than one pair has the largest overlap. In this case your function may return any of those pairs).\n",
    "\n",
    " - Test your function with the code below.\n",
    "```\n",
    "i, j, k = longest_overlap([\"XXXABC\", \"ABCYYY\", \"BC\"])\n",
    "print(i, j, k)\n",
    "0 1 3\n",
    "```"
   ]
  },
  {
   "cell_type": "markdown",
   "metadata": {
    "collapsed": false
   },
   "source": [
    "## Question 4 [10]\n",
    "\n",
    "Write a Python function `identify_strand(fragment_list, n)` which repeatedly applies the `longest_overlap` function to the list `fragment_list`. At each iteration, if the longest overlap is `n` or greater, then the code should:\n",
    "1. remove the two identified strings from the list.\n",
    "1. merge the two strings and append the merged string to the list.\n",
    "\n",
    "The function should terminate when the list contains only a single string OR the longest overlap is strictly less than `n`.\n",
    "\n",
    "The function should then return the list.\n",
    "\n",
    "**Hint:** Use the `del` keyword to remove an item from a list. For example, `del x[4]` removes the item at index 4 from the list `x`. Be very careful to remove the items in the correct order!\n",
    "\n",
    "Test your function with the code below:\n",
    "```\n",
    "simple_dna = ['tgaaaattcctttctattttaggccc', 'tgaaaattcctttctattttaggcccatgcaat', 'ggcattagggcggttaa', 'atgcaatggcattagggcggttaa', 'ggttaa', 'tgaaaattcctttctattt', 'taggcccatgcaatggcattagggc']\n",
    "s = identify_strand(simple_dna, 4)\n",
    "print(s)\n",
    "['tgaaaattcctttctattttaggcccatgcaatggcattagggcggttaa']\n",
    "```"
   ]
  },
  {
   "cell_type": "markdown",
   "metadata": {
    "collapsed": false
   },
   "source": [
    "## Question 5 [8]\n",
    "\n",
    "The following three text files each contains a set of DNA fragments. For each file:\n",
    "\n",
    "- Read the DNA fragments into a Python list (ignore any lines starting `'>'`).\n",
    "- Use the function `identify_strand` to reconstruct and print the DNA strand (assume the desired strand is the longest one)\n",
    "\n",
    "<a href=\"../practice_exam_1/strand_100.fasta\" download>strand_100.fasta</a>  \n",
    "<a href=\"../practice_exam_1/strand_200.fasta\" download>strand_200.fasta</a>  \n",
    "<a href=\"../practice_exam_1/strand_500.fasta\" download>strand_500.fasta</a>\n"
   ]
  }
 ],
 "metadata": {
  "kernelspec": {
   "display_name": "Python 3 (system-wide)",
   "language": "python",
   "metadata": {
    "cocalc": {
     "description": "Python 3 programming language",
     "priority": 100,
     "url": "https://www.python.org/"
    }
   },
   "name": "python3",
   "resource_dir": "/ext/jupyter/kernels/python3"
  },
  "language_info": {
   "codemirror_mode": {
    "name": "ipython",
    "version": 3
   },
   "file_extension": ".py",
   "mimetype": "text/x-python",
   "name": "python",
   "nbconvert_exporter": "python",
   "pygments_lexer": "ipython3",
   "version": "3.8.10"
  }
 },
 "nbformat": 4,
 "nbformat_minor": 4
}