{
 "cells": [
  {
   "cell_type": "markdown",
   "metadata": {
    "collapsed": false
   },
   "source": [
    "# Practice 5"
   ]
  },
  {
   "cell_type": "markdown",
   "metadata": {
    "collapsed": false
   },
   "source": [
    "## Question 1\n",
    "\n",
    "Create a 2 by 3 numpy array containing the following data:\n",
    "\n",
    "$$\n",
    "\\begin{bmatrix}\n",
    "10 & 12 & 13\\\\\n",
    "5 & 6 & 7\n",
    "\\end{bmatrix}\n",
    "$$\n",
    "\n",
    "Use slice notation to create one-dimensional arrays containing:\n",
    "\n",
    "1. The first row\n",
    "1. The last column\n",
    "\n",
    "Calculate:\n",
    "\n",
    "1. A 3 element array containing the sum of each of the three columns\n",
    "1. A 2 element array containing the sum of each of the two rows"
   ]
  },
  {
   "cell_type": "code",
   "execution_count": 0,
   "metadata": {
    "collapsed": false
   },
   "outputs": [],
   "source": []
  },
  {
   "cell_type": "markdown",
   "metadata": {
    "collapsed": false
   },
   "source": [
    "## Question 2\n",
    "\n",
    "A particle follows a trajectory given by the following equations between $t=0$s and $t = 10$s:\n",
    "\n",
    "$$\n",
    "x = 4\\sin(7t)\\\\\n",
    "y = 4\\cos(6t)\n",
    "$$\n",
    "\n",
    "\n",
    "\n",
    "1. Use `np.arange` to create an array `t` containing 100 evenly spaced time points from 0 to 10.\n",
    "1. Calculate arrays `x` and `y` containing the x and y co-ordinates\n",
    "1. plot the x and y co-ordinates against time on the same graph.\n",
    "1. On a separate graph, plot x against y."
   ]
  },
  {
   "cell_type": "code",
   "execution_count": 0,
   "metadata": {
    "collapsed": false
   },
   "outputs": [],
   "source": []
  },
  {
   "cell_type": "markdown",
   "metadata": {
    "collapsed": false
   },
   "source": [
    "## Question 3\n",
    "The logistic equation describes the growth of a population where the growth rate is limited by resources.\n",
    "\n",
    "$$x_{i+1} = x_i + r(1-x_i/K)x_i$$\n",
    "\n",
    "$r$ and $K$, both greater than zero, are parameters of the model.\n",
    "\n",
    "Adapt the 'Population Growth' code in the notes to simulate the growth of a population undergoing logistic growth. Experiment with different values of $r$ and $K$. What do the two parameters represent?"
   ]
  },
  {
   "cell_type": "code",
   "execution_count": 0,
   "metadata": {
    "collapsed": false
   },
   "outputs": [],
   "source": []
  }
 ],
 "metadata": {
  "kernelspec": {
   "display_name": "Python 3 (system-wide)",
   "language": "python",
   "metadata": {
    "cocalc": {
     "description": "Python 3 programming language",
     "priority": 100,
     "url": "https://www.python.org/"
    }
   },
   "name": "python3",
   "resource_dir": "/ext/jupyter/kernels/python3"
  },
  "language_info": {
   "codemirror_mode": {
    "name": "ipython",
    "version": 3
   },
   "file_extension": ".py",
   "mimetype": "text/x-python",
   "name": "python",
   "nbconvert_exporter": "python",
   "pygments_lexer": "ipython3",
   "version": "3.8.10"
  }
 },
 "nbformat": 4,
 "nbformat_minor": 4
}