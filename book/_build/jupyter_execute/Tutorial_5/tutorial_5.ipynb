{
 "cells": [
  {
   "cell_type": "markdown",
   "metadata": {
    "collapsed": false
   },
   "source": [
    "# Tutorial 5\n",
    "\n",
    "## Question 1\n",
    "\n",
    "The (approximate) orbit of a planet around the sun is given by the following equations:\n",
    "\n",
    "$$x = d\\cos(2\\pi t/p)\\\\\n",
    " y = d\\sin(2\\pi t/p)$$\n",
    " \n",
    "where $d$ is the distance from the sun, and $p$  is the orbital period in days.\n",
    " \n",
    "Values for $d$ and $p$ for the Solar System can be found in the following link:\n",
    "\n",
    "http://www.astronomynotes.com/tables/tablesb.htm\n",
    "\n",
    ":::{sidebar} Animation Code\n",
    "```\n",
    "import numpy as np\n",
    "from matplotlib import animation\n",
    "from IPython.display import HTML, display\n",
    "import random\n",
    "\n",
    "# Parabolic Trajectory\n",
    "\n",
    "t = np.arange(10)\n",
    "y = 25 - (t-5)**2\n",
    "\n",
    "# Animation code:\n",
    "\n",
    "filename = \"animation.gif\"\n",
    "frames = len(t)\n",
    "interval = 100\n",
    "\n",
    "def ganimate(frame):\n",
    "    plt.cla()\n",
    "    plt.scatter(t[frame], y[frame])\n",
    "    plt.xlim(0, 10)\n",
    "    plt.ylim(0, 30)\n",
    "    \n",
    "fig = plt.figure(figsize=(5, 5))\n",
    "anim = animation.FuncAnimation(fig, ganimate, frames=frames, interval=interval)\n",
    "anim.save(filename, writer='imagemagick')\n",
    "plt.close()\n",
    "\n",
    "__counter__ = str(random.randint(0,2e9))\n",
    "display(HTML('<img src=\"' + filename + '?' + __counter__ + '\">'))\n",
    "```\n",
    ":::\n",
    " \n",
    "1. Create an array `t` containing the 365 days of the year then calculate the trajectory of planet Earth's orbit around the sun for one (Earth) year. Plot a graph showing $x$ and $y$ against $t$, and  another graph showing $y$ against $x$.\n",
    "1. Calculate the trajectories of the four innermost planets around the sun, and add their trajectories to the two graphs (of course you'll have to increase the simulation duration). [hint: you could create separate variables `x_earth`, `y_earth`, `x_mercury`, `y_mercury` etc, but it is neater to make two 2-dimensional arrays `x` and `y` where each row corresponds to a planet].\n",
    "1. Adapt the animation code to generate an animation of the orbits of the four planets. [Hint: generating the animation can be quite slow, so start by reducing the number elements in your array `t` by increasing the timestep]"
   ]
  },
  {
   "cell_type": "markdown",
   "metadata": {
    "collapsed": false
   },
   "source": [
    "## Question 2\n",
    "\n",
    "The spread of an infectious disease amongst a population can be modelled by the SIR model. The number of susceptible ($S_i$) and infected ($I_i$) peeople are modelled by the following pair of coupled equations:\n",
    "\n",
    "$$ S_{i+1} = S_i - bS_iI_i $$\n",
    "$$ I_{i+1} = I_i + bS_iI_i - aI_i $$\n",
    "\n",
    "where $i$ represents the number of days since the start of the outbreak. There are two parameters: the recovery rate parameter $a$ and the infection rate parameter $b$.\n",
    "\n",
    "1. With parameter values $a = 0.1$ and $b = 0.00005$ and the initial populations $S_0 = 20000$ and $I_0 = 100$, simulate the infection for a duration 100 days. Plot the resulting arrays `S` and `I` on the same figure. [You should see that the number of infected people peaks at around 15000 at about day 15, while the number of susceptible people drops to about zero at about the same time].\n",
    "\n",
    "The number of recovered people $R_i$ is given by $P = S_i + I_i + R_i$ where the total population $P$ is a constant.\n",
    "\n",
    "2. Given the total population $P = S_0 + I_0$, calculate an array `R` representing the number of recovered people over the 100 days. Plot `R` on the graph together with `S` and `I`.\n",
    "\n",
    "The infection rate parameter $b$ can be influenced by public policy - for example the imposition of social distancing, vaccination or other measures. \n",
    "\n",
    "3. Experiment with various values of $b$ to see how it affects the outbreak. Roughly what is the minimum value of $b$ which results in an epidemic? (We say there is an epidemic if $I_i$ initially rises to a peak, however small).\n",
    "\n",
    "The Government would like to understand how $b$ affects the the peak value of $I_i$. \n",
    "\n",
    "4. Write a function `max_I(a, b)` which runs the simulation with the given values for the parameters $a$ and $b$ and returns the maximum value of `I_i`. Then, write a loop which calculates `max_I(a, b)` for values of `b` ranging from 0.0 to 0.00005. Plot a graph showing peak $I_i$ against $b$.\n",
    "\n",
    "```\n",
    "def max_I(a, b):\n",
    "    \n",
    "    # run the simulation for parameter values a, b\n",
    "    \n",
    "    # return maximum value of I\n",
    "```"
   ]
  }
 ],
 "metadata": {
  "kernelspec": {
   "display_name": "Python 3 (system-wide)",
   "language": "python",
   "metadata": {
    "cocalc": {
     "description": "Python 3 programming language",
     "priority": 100,
     "url": "https://www.python.org/"
    }
   },
   "name": "python3",
   "resource_dir": "/ext/jupyter/kernels/python3"
  },
  "language_info": {
   "codemirror_mode": {
    "name": "ipython",
    "version": 3
   },
   "file_extension": ".py",
   "mimetype": "text/x-python",
   "name": "python",
   "nbconvert_exporter": "python",
   "pygments_lexer": "ipython3",
   "version": "3.8.10"
  }
 },
 "nbformat": 4,
 "nbformat_minor": 4
}