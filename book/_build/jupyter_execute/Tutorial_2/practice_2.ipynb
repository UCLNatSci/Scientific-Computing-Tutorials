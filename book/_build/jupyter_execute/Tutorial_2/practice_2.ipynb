{
 "cells": [
  {
   "cell_type": "markdown",
   "metadata": {
    "collapsed": false
   },
   "source": [
    "# Practice 2"
   ]
  },
  {
   "cell_type": "markdown",
   "metadata": {
    "collapsed": false
   },
   "source": [
    "[Turtle Graphics](https://en.wikipedia.org/wiki/Turtle_graphics) is a graphical computer language often used to introduce programming to beginners. The user controls an on-screen turtle by sending commands such as 'forward 50' and 'rotate 90'. The turtle follows the commands in sequence, drawing a line as it moves.\n",
    "\n",
    "The code below implements a Turtle program in Python.\n",
    "\n",
    "> Copy the code into a new notebook file and execute it.\n",
    "\n",
    ":::{note}\n",
    "You don't need to understand this code - it contains some more advanced constructs that we haven't covered yet.\n",
    ":::\n",
    "\n",
    "```\n",
    "import matplotlib.pyplot as plt\n",
    "import numpy as np\n",
    "\n",
    "# function definitions\n",
    "\n",
    "def start():\n",
    "    state[0] = 0\n",
    "    state[1] = 0\n",
    "    state[2] = 0\n",
    "    \n",
    "    plt.figure(figsize=(5,5))\n",
    "    plt.xlim(-2, 2)\n",
    "    plt.ylim(-2, 2) \n",
    "\n",
    "def draw_forward(dis):\n",
    "    x = state[0]\n",
    "    y = state[1]\n",
    "    angle = state[2]\n",
    "    state[0] = x + dis * np.cos(angle)\n",
    "    state[1] = y + dis * np.sin(angle)\n",
    "    plt.plot([x, state[0]], [y, state[1]], color=\"black\", linewidth=2)\n",
    "    \n",
    "def rotate_left(theta):\n",
    "    state[2] = state[2] + theta * np.pi / 180\n",
    "    \n",
    "state = [0, 0, 0]\n",
    "\n",
    "# Turtle instructions\n",
    "    \n",
    "start()\n",
    "move_forward(2)\n",
    "rotate_left(90)\n",
    "move_forward(2)\n",
    "```\n",
    "\n",
    "`start` is a function which creates a new drawing surface and moves the turtle back to the origin.\n",
    "\n",
    "`draw_forward` is a function which updates the x and y co-ordinates and draws a line between the old and new co-ordinates.\n",
    "\n",
    "`rotate_left` is a function which updates the angle by `theta` degrees.\n",
    "\n",
    "## Question 1\n",
    "\n",
    "Complete the turtle instructions code so that it draws a square. Then, write a function `draw_square` which draws a square (put your function definitions near the top of the code file, underneath `# function definitions`.)\n",
    "\n",
    "```\n",
    "# draw a square\n",
    "draw_square()\n",
    "```\n",
    "\n",
    "![](images/square.png)\n",
    "\n",
    "\n",
    "## Question 2\n",
    "\n",
    "Write a function `draw_polygon(n, dis)` which draws an n-sided polygon with side length `dis`. Use it to draw a hexagon with side-length 1.\n",
    "\n",
    "```\n",
    "# draw a hexagon\n",
    "draw_polygon(6, 1)\n",
    "```\n",
    "\n",
    "![](images/hexagon.png)\n",
    "\n",
    "## Question 3\n",
    "\n",
    "Write a function `draw_rotated_polygons(n, m)` which draws a pattern like below.\n",
    "\n",
    "```\n",
    "# Draw 5 rotated squares\n",
    "draw_rotated_polygons(4, 5)\n",
    "```\n",
    "\n",
    "![](images/rotated_polygon.png)\n"
   ]
  },
  {
   "cell_type": "markdown",
   "metadata": {
    "collapsed": false
   },
   "source": [
    "## Question 4\n",
    "\n",
    "Copy the three function definitions `get_number_of_day`, `get_day_of_week` and `print_day_of_week_from_number_of_year` from the notes. Correct the code so that it prints the day of the week correctly."
   ]
  },
  {
   "cell_type": "code",
   "execution_count": 0,
   "metadata": {
    "collapsed": false
   },
   "outputs": [],
   "source": []
  },
  {
   "cell_type": "markdown",
   "metadata": {
    "collapsed": false
   },
   "source": [
    "## Question 5\n",
    "\n",
    "Write a program which prints a multiplication table, like this:\n",
    "```\n",
    " 1  2  3  4  5  6  7  8  9 10\n",
    " 2  4  6  8 10 12 14 16 18 20\n",
    " 3  6  9 12 15 18 21 24 27 30\n",
    "...\n",
    "10 20 30 40 50 60 70 80 90 100\n",
    "```\n",
    "\n",
    "You will need to use two nested loops."
   ]
  },
  {
   "cell_type": "code",
   "execution_count": 0,
   "metadata": {
    "collapsed": false
   },
   "outputs": [],
   "source": []
  }
 ],
 "metadata": {
  "kernelspec": {
   "display_name": "Python 3 (system-wide)",
   "language": "python",
   "metadata": {
    "cocalc": {
     "description": "Python 3 programming language",
     "priority": 100,
     "url": "https://www.python.org/"
    }
   },
   "name": "python3",
   "resource_dir": "/ext/jupyter/kernels/python3"
  },
  "language_info": {
   "codemirror_mode": {
    "name": "ipython",
    "version": 3
   },
   "file_extension": ".py",
   "mimetype": "text/x-python",
   "name": "python",
   "nbconvert_exporter": "python",
   "pygments_lexer": "ipython3",
   "version": "3.8.10"
  }
 },
 "nbformat": 4,
 "nbformat_minor": 4
}