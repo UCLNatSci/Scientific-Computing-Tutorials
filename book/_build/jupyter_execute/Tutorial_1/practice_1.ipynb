{
 "cells": [
  {
   "cell_type": "markdown",
   "metadata": {
    "collapsed": false
   },
   "source": [
    "# Practice 1"
   ]
  },
  {
   "cell_type": "markdown",
   "metadata": {
    "collapsed": false
   },
   "source": [
    "## Question 1\n",
    "\n",
    "Recall the definition of factorial of a number $n$:\n",
    "\n",
    "$$n! = n \\times (n-1) \\times \\ldots \\times 2 \\times 1$$\n",
    "\n",
    "Use the following pseudocode to calculate the factorial of 10.\n",
    "\n",
    "```none\n",
    "Set n to 10\n",
    "Set f to 1\n",
    "Repeat until n is 1:\n",
    " - Set f to f times n\n",
    " - Decrease n by 1\n",
    "Print f\n",
    "```"
   ]
  },
  {
   "cell_type": "code",
   "execution_count": 0,
   "metadata": {
    "collapsed": false
   },
   "outputs": [],
   "source": []
  },
  {
   "cell_type": "markdown",
   "metadata": {
    "collapsed": false
   },
   "source": [
    "## Question 2\n",
    "\n",
    "Find the 'pseudocode' box in the notes. Write Python code which implements the program described there.\n",
    "\n",
    "> The value of a loan increases by 1.3% every month, except in December when it is reduced by 100 pounds. How many months will it take for a 1000 pound loan to reach 2000 pounds?\n",
    "\n",
    "What if the monthly interest rate is changed to 0.8%?"
   ]
  },
  {
   "cell_type": "code",
   "execution_count": 0,
   "metadata": {
    "collapsed": false
   },
   "outputs": [],
   "source": []
  },
  {
   "cell_type": "markdown",
   "metadata": {
    "collapsed": false
   },
   "source": [
    "## Question 3\n",
    "\n",
    "Write a program which use the quadratic formula to print the solution to the quadratic equation $ax^2 + bx + c = 0$, given variables `a`, `b`, and `c`. Your program should print:\n",
    "\n",
    "```\n",
    "The solutions are x = 4 and x = 1\n",
    "```\n",
    "or\n",
    "```\n",
    "The solution is x = 1\n",
    "```\n",
    "or\n",
    "```\n",
    "There are no real solutions\n",
    "```\n",
    "(Hint: first calculate the discriminant $b^2-4ac$).\n"
   ]
  },
  {
   "cell_type": "code",
   "execution_count": 0,
   "metadata": {
    "collapsed": false
   },
   "outputs": [],
   "source": []
  },
  {
   "cell_type": "markdown",
   "metadata": {
    "collapsed": false
   },
   "source": [
    "## Question 4\n",
    "\n",
    "Given two integers $n$ and $m$ it is possible to perform division-with-remainder by repeatedly subtracting $m$ from $n$ until the result is less than $m$. For example, to calculate 13 divided by 3:\n",
    "\n",
    "13 - 3 = 10  \n",
    "10 - 3 = 7  \n",
    "7 - 3 = 4  \n",
    "4 - 3 = 1  \n",
    "\n",
    "13 divided by 3 equals 4 remainder 1.\n",
    "\n",
    "Use the following pseudocode to write a program which performs this calulation.\n",
    "\n",
    "> Set `n` to 13  \n",
    "> Set `m` to 3  \n",
    "> Set `i` to 0  \n",
    "> Repeat while `n` is greater than `m`:\n",
    "> - Subtract `m` from `n`\n",
    "> - Increase `i` by 1.\n",
    ">\n",
    "> Print the result\n",
    "\n",
    "The result should be displayed in words as above (hint: you'll need to create an extra variable to store the original value of `n`).\n"
   ]
  },
  {
   "cell_type": "code",
   "execution_count": 0,
   "metadata": {
    "collapsed": false
   },
   "outputs": [],
   "source": []
  }
 ],
 "metadata": {
  "kernelspec": {
   "display_name": "Python 3 (system-wide)",
   "language": "python",
   "metadata": {
    "cocalc": {
     "description": "Python 3 programming language",
     "priority": 100,
     "url": "https://www.python.org/"
    }
   },
   "name": "python3",
   "resource_dir": "/ext/jupyter/kernels/python3"
  },
  "language_info": {
   "codemirror_mode": {
    "name": "ipython",
    "version": 3
   },
   "file_extension": ".py",
   "mimetype": "text/x-python",
   "name": "python",
   "nbconvert_exporter": "python",
   "pygments_lexer": "ipython3",
   "version": "3.8.10"
  }
 },
 "nbformat": 4,
 "nbformat_minor": 4
}