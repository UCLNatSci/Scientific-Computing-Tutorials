{
 "cells": [
  {
   "cell_type": "markdown",
   "metadata": {
    "collapsed": false
   },
   "source": [
    "# Practice 6\n",
    "## Question 1\n",
    "\n",
    "The file `monthly-sunspots.txt` contains one floating point number per line. Write a program which opens the file, reads the numbers into a list or array, then plots the data as a line graph.\n",
    "\n",
    "<a href=\"../tutorial_6/monthly-sunspots.txt\" download>monthly-sunspots.txt</a>\n"
   ]
  },
  {
   "cell_type": "code",
   "execution_count": 0,
   "metadata": {
    "collapsed": false
   },
   "outputs": [],
   "source": []
  },
  {
   "cell_type": "markdown",
   "metadata": {
    "collapsed": false
   },
   "source": [
    "## Question 2\n",
    "The `time()` function returns the number of seconds which have elapsed since January 1 1970.\n",
    "```\n",
    "from time import time\n",
    "print(time())\n",
    "\n",
    "1609431989.253785\n",
    "```\n",
    "\n",
    "Write a program which writes the current time to the file `current_time.txt`. Investigate the difference between opening the file in write mode versus append mode."
   ]
  },
  {
   "cell_type": "code",
   "execution_count": 0,
   "metadata": {
    "collapsed": false
   },
   "outputs": [],
   "source": []
  },
  {
   "cell_type": "markdown",
   "metadata": {
    "collapsed": false
   },
   "source": [
    "## Question 3\n",
    "Write a program which creates 9 files named `element_1.txt` to `element_9.txt` containing the name and description of the first 9 chemical elements listed in the file `periodic_table.csv`. E.g., `element_1.txt` should contain:\n",
    "```\n",
    "Hydrogen\n",
    "colorless gas\n",
    "```\n",
    "\n",
    "<a href=\"../tutorial_6/periodic_table.csv\" download>periodic_table.csv</a>"
   ]
  },
  {
   "cell_type": "code",
   "execution_count": 0,
   "metadata": {
    "collapsed": false
   },
   "outputs": [],
   "source": []
  }
 ],
 "metadata": {
  "kernelspec": {
   "display_name": "Python 3 (system-wide)",
   "language": "python",
   "metadata": {
    "cocalc": {
     "description": "Python 3 programming language",
     "priority": 100,
     "url": "https://www.python.org/"
    }
   },
   "name": "python3",
   "resource_dir": "/ext/jupyter/kernels/python3"
  },
  "language_info": {
   "codemirror_mode": {
    "name": "ipython",
    "version": 3
   },
   "file_extension": ".py",
   "mimetype": "text/x-python",
   "name": "python",
   "nbconvert_exporter": "python",
   "pygments_lexer": "ipython3",
   "version": "3.8.10"
  }
 },
 "nbformat": 4,
 "nbformat_minor": 4
}